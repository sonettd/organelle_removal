{
 "cells": [
  {
   "cell_type": "markdown",
   "metadata": {},
   "source": [
    "# Mitochondria removal tutorial (QIIME2 Artifact API)"
   ]
  },
  {
   "cell_type": "markdown",
   "metadata": {},
   "source": [
    "This tutorial will cover how to use the preconstructed extended taxonomies from Sonett et al. [preprint](https://www.biorxiv.org/content/10.1101/2021.02.23.431501v2) to remove mitochondria from 16S rRNA gene sequence data in QIIME2 using the QIIME2 Artifact API\n",
    "\n",
    "If you need to build your own, custom extended taxonomy, see the extended [taxonomy creation tutorial here](extended_taxonomy_construction_tutorial.ipynb)\n",
    "\n",
    "We will use as an example a 16S rRNA amplicon dataset studying how the activity of certain innate immunity proteins interacted with microbiome structure in corals affected by the disease Montipora White Syndrome (MWS). For the experimental design, see [Brown *et al*., 2021](https://onlinelibrary.wiley.com/doi/full/10.1111/mec.15899). In this case, we are just using these data to give an example of mitochondria removal, so you don't need to read the paper in order to do the tutorial.\n",
    "\n"
   ]
  },
  {
   "cell_type": "markdown",
   "metadata": {},
   "source": [
    "## Requirements\n",
    "\n",
    "\n",
    "It's assumed that QIIME2 is installed, and it's virtual environment activated."
   ]
  },
  {
   "cell_type": "markdown",
   "metadata": {},
   "source": [
    "## Activating your QIIME2 virtual environment\n",
    "NOTE: you have to activate your QIIME2 virtual environment *before* starting this notebook. That's awkward since you're already in the notebook. You may need to exit the notebook, activate QIIME2, then restart it. I usually do this by first reminding myself of which virtual environments I have available:\n",
    "\n",
    "`conda env list`\n",
    "\n",
    "Here's an example of the output in my case:\n",
    "`# conda environments:\n",
    "\n",
    "base                  *  /Users/zaneveld/opt/anaconda3\n",
    "qiime2-2020.8            /Users/zaneveld/opt/anaconda3/envs/qiime2-2020.8\n",
    "qiime2-2021.11           /Users/zaneveld/opt/anaconda3/envs/qiime2-2021.11\n",
    "qiime2-amplicon-2023.9     /Users/zaneveld/opt/anaconda3/envs/qiime2-amplicon-2023.9\n",
    "`\n",
    "\n",
    "If I wanted to activate the `qiime2-amplicon-2023.9` virtual environment, I would then use: \n",
    "\n",
    "`conda activate qiime2-amplicon-2023.9`\n",
    "\n",
    ". You can run this tutorial from a Jupyter notebook in Terminal on Mac, any BASH command line interface in Linux or the Windows Subsystem for Linux as long as QIIME2 is installed."
   ]
  },
  {
   "cell_type": "markdown",
   "metadata": {},
   "source": [
    "## Arrangement of tutorial files\n",
    "\n",
    "It's  assumed that you've downloaded the zipped tutorial with `input`, `output` and `procedure` folders, and that this script is within the provided procedure folder (where it starts). \n",
    "\n",
    "Given all that, this tutorial will discuss how to use the the supplemented databases to remove mitochondria from your 16S datasets using QIIME2. "
   ]
  },
  {
   "cell_type": "markdown",
   "metadata": {},
   "source": [
    "\n",
    "## Check that we can import QIIME2 objects\n",
    "\n",
    "Before we go further, let's double check that we can import objects from QIIME2 by importing the core `Artifact` and `Metadata` objects"
   ]
  },
  {
   "cell_type": "code",
   "execution_count": 1,
   "metadata": {},
   "outputs": [],
   "source": [
    "try:\n",
    "    from qiime2 import Artifact #, Metadata\n",
    "except ModuleNotFoundError:\n",
    "    raise ModuleNotFoundError('\\nQIIME2 is not installed, or you are not in the proper environment.\\nPlease stop the Jupyter server, install QIIME2 or activate the environment, and restart this notebook.') from None"
   ]
  },
  {
   "cell_type": "markdown",
   "metadata": {},
   "source": [
    "# Classify taxonomy with VSEARCH\n",
    "In order to remove mitochondria and chloroplast sequences, we must first classify the taxonomy of all 16S rRNA sequences in the library to figure out which derive from organelles. In this tutorial, we'll use VSEARCH to align our 16S sequences to the extended reference database. VSEARCH is included with QIIME2 and so you shouldn't need to install any additional software to run it."
   ]
  },
  {
   "cell_type": "markdown",
   "metadata": {},
   "source": [
    "### Set up the directories and import files for this part of the analysis\n",
    "\n",
    "First we'll set up references to the directories that hold our raw data and results. The tutorial assumes that we have an `input`, `output`, and `procedure` folder within our analysis directory, and that we are running our jupyter notebook from the `procedure` folder. Therefore all paths to files in `input` will look like `../input/name_of_file.txt` and similarly files in the `output` folder will have paths like `../output/name_of_file.txt`."
   ]
  },
  {
   "cell_type": "markdown",
   "metadata": {},
   "source": [
    "We will start by assigning some relevant paths to variables. If you were adapting this tutorial to your own data, you would need to replace the filenames for the metadata, sequences, and feature table to your own. "
   ]
  },
  {
   "cell_type": "code",
   "execution_count": 2,
   "metadata": {},
   "outputs": [
    {
     "name": "stdout",
     "output_type": "stream",
     "text": [
      "Metadata filepath:/Users/zaneveld/Dropbox/Zaneveld_Lab_Organization/Projects/Coral_Mitochondria_Removal/organelle_removal/Tutorial/input/sample_metadata_live_vs_dead_combo.tsv\n",
      "\n",
      "Sequence filepath:/Users/zaneveld/Dropbox/Zaneveld_Lab_Organization/Projects/Coral_Mitochondria_Removal/organelle_removal/Tutorial/input/rep_seqs_merged.qza\n",
      "\n",
      "Feature table filepath:/Users/zaneveld/Dropbox/Zaneveld_Lab_Organization/Projects/Coral_Mitochondria_Removal/organelle_removal/Tutorial/input/feature_table_live_vs_dead.qza\n",
      "\n"
     ]
    }
   ],
   "source": [
    "from os.path import join, abspath, exists\n",
    "\n",
    "#Since we are in procedure, the main analysis directory ('working_dir')\n",
    "#encloses our current directory\n",
    "working_dir = abspath('..')\n",
    "\n",
    "input_dir = join(working_dir,'input')\n",
    "output_dir = join(working_dir, 'output')\n",
    "\n",
    "#Define variables to hold the filepaths for metadata, sequences, and the extended taxonomy reference\n",
    "\n",
    "#NOTE: these should be adjusted to point to your data\n",
    "metadata_file_name = 'sample_metadata_live_vs_dead_combo.tsv'\n",
    "sequence_file_name = 'rep_seqs_merged.qza'\n",
    "feature_table_name = 'feature_table_live_vs_dead.qza'\n",
    "\n",
    "#Combine the filenames with paths for your input folders\n",
    "#We use the join function to ensure cross-system compatibility (i.e. / vs. \\ issues)\n",
    "metadata_path = join(input_dir, metadata_file_name)\n",
    "seqs_path = join(input_dir, sequence_file_name)\n",
    "feature_table_path = join(input_dir, feature_table_name)\n",
    "\n",
    "print(f\"Metadata filepath:{metadata_path}\\n\")\n",
    "print(f\"Sequence filepath:{seqs_path}\\n\")\n",
    "print(f\"Feature table filepath:{feature_table_path}\\n\")"
   ]
  },
  {
   "cell_type": "markdown",
   "metadata": {},
   "source": [
    "## Define variables holding the paths to our taxonomic references"
   ]
  },
  {
   "cell_type": "code",
   "execution_count": 3,
   "metadata": {},
   "outputs": [],
   "source": [
    "#these will be automaticallly downloaded if not found\n",
    "taxonomy_reference_dir = join(input_dir,'taxonomy_references')\n",
    "base_silva_paths = [join(taxonomy_reference_dir, 'silva_sequences.qza'),\n",
    "                    join(taxonomy_reference_dir, 'silva_taxonomy.qza')]\n",
    "extended_silva_paths = [join(taxonomy_reference_dir, 'silva_extended_sequences.qza'),\n",
    "                        join(taxonomy_reference_dir, 'silva_extended_taxonomy.qza')]"
   ]
  },
  {
   "cell_type": "markdown",
   "metadata": {},
   "source": [
    "### Check for files and download key files if not present"
   ]
  },
  {
   "cell_type": "code",
   "execution_count": 4,
   "metadata": {},
   "outputs": [],
   "source": [
    "import os\n",
    "import shutil\n",
    "import urllib.request\n",
    "\n",
    "def download_file(url, local_filepath):\n",
    "    with urllib.request.urlopen(url) as response, open(local_filepath, 'wb') as out_file:\n",
    "        shutil.copyfileobj(response, out_file)"
   ]
  },
  {
   "cell_type": "code",
   "execution_count": 7,
   "metadata": {},
   "outputs": [
    {
     "name": "stdout",
     "output_type": "stream",
     "text": [
      "Verifying that all needed starting data files exist.\n",
      "/Users/zaneveld/Dropbox/Zaneveld_Lab_Organization/Projects/Coral_Mitochondria_Removal/organelle_removal/Tutorial/input/taxonomy_references.....OK\n",
      "/Users/zaneveld/Dropbox/Zaneveld_Lab_Organization/Projects/Coral_Mitochondria_Removal/organelle_removal/Tutorial/input/sample_metadata_live_vs_dead_combo.tsv.....OK\n",
      "/Users/zaneveld/Dropbox/Zaneveld_Lab_Organization/Projects/Coral_Mitochondria_Removal/organelle_removal/Tutorial/input/rep_seqs_merged.qza.....OK\n",
      "/Users/zaneveld/Dropbox/Zaneveld_Lab_Organization/Projects/Coral_Mitochondria_Removal/organelle_removal/Tutorial/input/feature_table_live_vs_dead.qza.....OK\n",
      "/Users/zaneveld/Dropbox/Zaneveld_Lab_Organization/Projects/Coral_Mitochondria_Removal/organelle_removal/Tutorial/input/taxonomy_references/silva_sequences.qza.....OK\n",
      "/Users/zaneveld/Dropbox/Zaneveld_Lab_Organization/Projects/Coral_Mitochondria_Removal/organelle_removal/Tutorial/input/taxonomy_references/silva_taxonomy.qza.....OK\n",
      "/Users/zaneveld/Dropbox/Zaneveld_Lab_Organization/Projects/Coral_Mitochondria_Removal/organelle_removal/Tutorial/input/taxonomy_references/silva_extended_sequences.qza.....OK\n",
      "/Users/zaneveld/Dropbox/Zaneveld_Lab_Organization/Projects/Coral_Mitochondria_Removal/organelle_removal/Tutorial/input/taxonomy_references/silva_extended_taxonomy.qza.....OK\n",
      "Done.\n"
     ]
    }
   ],
   "source": [
    "print(\"Verifying that all needed starting data files exist.\")\n",
    "\n",
    "### Add file names for the actual files we need to the required files list\n",
    "\n",
    "required_filepaths = ([taxonomy_reference_dir, metadata_path, seqs_path, feature_table_path]\n",
    "                      + base_silva_paths + extended_silva_paths)\n",
    "\n",
    "for required_filepath in required_filepaths:\n",
    "    if not exists(existing_file):\n",
    "        if required_filepath == taxonomy_reference_dir:\n",
    "            os.mkdir(taxonomy_reference_dir)\n",
    "        elif required_filepath in base_silva_paths:\n",
    "            download_file('https://data.qiime2.org/2021.4/common/silva-138-99-seqs-515-806.qza',\n",
    "                          join(taxonomy_reference_dir, 'silva_sequences.qza'))\n",
    "            download_file('https://data.qiime2.org/2021.4/common/silva-138-99-tax-515-806.qza', \n",
    "                          join(taxonomy_reference_dir, 'silva_taxonomy.qza'))\n",
    "        elif required_filepath in extended_silva_paths:\n",
    "            download_file('https://zenodo.org/records/10251912/files/silva_extended_sequences.qza?download=1',\n",
    "                          join(taxonomy_reference_dir, 'silva_extended_sequences.qza'))\n",
    "            download_file('https://zenodo.org/records/10251912/files/silva_extended_taxonomy.qza?download=1',\n",
    "                          join(taxonomy_reference_dir, 'silva_extended_taxonomy.qza'))            \n",
    "        else:\n",
    "            raise IOError(f\"Required file {required_filepath} not found. Please ensure it is in that directory.\")\n",
    "        \n",
    "    print(f\"{required_filepath}.....OK\")\n",
    "print(\"Done.\")"
   ]
  },
  {
   "cell_type": "markdown",
   "metadata": {},
   "source": [
    "# Annotate sequences"
   ]
  },
  {
   "cell_type": "markdown",
   "metadata": {},
   "source": [
    "We will use vsearch to annotate taxonomy. This will be done once for each of the refernce taxonomies :  Silva, and Silva + MeTaxa2 + phytoref reference mitocondrial sequences. "
   ]
  },
  {
   "cell_type": "markdown",
   "metadata": {},
   "source": [
    "## Load metadata and sequence files as .qza artifacts\n",
    "\n",
    "Next we'll load your study-specific metadata and sequence files as QIIME2 Artifacts. (If adapting to your own files later, replace metadata_path and seqs_path with paths to your metadata `.tsv` file and your sequence `.qza` file)."
   ]
  },
  {
   "cell_type": "code",
   "execution_count": 8,
   "metadata": {},
   "outputs": [],
   "source": [
    "from qiime2 import Artifact, Metadata\n",
    "metadata = Metadata.load(metadata_path)\n",
    "seqs = Artifact.load(seqs_path)"
   ]
  },
  {
   "cell_type": "markdown",
   "metadata": {},
   "source": [
    "## Use VSEARCH to classify your sequences according to base and extended SILVA taxonomies"
   ]
  },
  {
   "cell_type": "markdown",
   "metadata": {},
   "source": [
    "**Note:** On a full dataset this step can take a while to run. Adjusting the vsearch threads parameter can help speed up the process if you have enough memory to support multiple threads. (About 8GB / thread has worked for us as a rule of thumb, but the scaling may not be totally linear - see https://forum.qiime2.org/t/vsearch-classifier-memory/8667/5 for discussion)."
   ]
  },
  {
   "cell_type": "code",
   "execution_count": 9,
   "metadata": {},
   "outputs": [
    {
     "name": "stdout",
     "output_type": "stream",
     "text": [
      "Running external command line application. This may print messages to stdout and/or stderr.\n",
      "The command being run is below. This command cannot be manually re-run as it will depend on temporary files that no longer exist.\n",
      "\n",
      "Command: vsearch --usearch_global /var/folders/v2/qns4f6vs1bv0jcb0f7w2qk_sc_yq4j/T/qiime2/zaneveld/data/d7bb1a41-d3e8-465f-be11-90b58e1cf211/data/dna-sequences.fasta --id 0.8 --query_cov 0.8 --strand both --maxaccepts 10 --maxrejects 0 --db /var/folders/v2/qns4f6vs1bv0jcb0f7w2qk_sc_yq4j/T/qiime2/zaneveld/data/b41681fb-a4e7-4ef8-a23a-a26f1bcfd272/data/dna-sequences.fasta --threads 4 --output_no_hits --blast6out /var/folders/v2/qns4f6vs1bv0jcb0f7w2qk_sc_yq4j/T/q2-BLAST6Format-dbr7_xf8\n",
      "\n"
     ]
    },
    {
     "name": "stderr",
     "output_type": "stream",
     "text": [
      "vsearch v2.22.1_macos_x86_64, 32.0GB RAM, 8 cores\n",
      "https://github.com/torognes/vsearch\n",
      "\n",
      "Reading file /var/folders/v2/qns4f6vs1bv0jcb0f7w2qk_sc_yq4j/T/qiime2/zaneveld/data/b41681fb-a4e7-4ef8-a23a-a26f1bcfd272/data/dna-sequences.fasta 100%\n",
      "86453445 nt in 313734 seqs, min 54, max 2366, avg 276\n",
      "Masking 100%\n",
      "Counting k-mers 100%\n",
      "Creating k-mer index 100%\n",
      "Searching 100%\n",
      "Matching unique query sequences: 127 of 464 (27.37%)\n"
     ]
    },
    {
     "name": "stdout",
     "output_type": "stream",
     "text": [
      "Running external command line application. This may print messages to stdout and/or stderr.\n",
      "The command being run is below. This command cannot be manually re-run as it will depend on temporary files that no longer exist.\n",
      "\n",
      "Command: vsearch --usearch_global /var/folders/v2/qns4f6vs1bv0jcb0f7w2qk_sc_yq4j/T/qiime2/zaneveld/data/d7bb1a41-d3e8-465f-be11-90b58e1cf211/data/dna-sequences.fasta --id 0.8 --query_cov 0.8 --strand both --maxaccepts 10 --maxrejects 0 --db /var/folders/v2/qns4f6vs1bv0jcb0f7w2qk_sc_yq4j/T/qiime2/zaneveld/data/f5bba9f9-ccf6-4f7f-9610-aa9dcdb47eca/data/dna-sequences.fasta --threads 4 --output_no_hits --blast6out /var/folders/v2/qns4f6vs1bv0jcb0f7w2qk_sc_yq4j/T/q2-BLAST6Format-tf7h50bw\n",
      "\n"
     ]
    },
    {
     "name": "stderr",
     "output_type": "stream",
     "text": [
      "vsearch v2.22.1_macos_x86_64, 32.0GB RAM, 8 cores\n",
      "https://github.com/torognes/vsearch\n",
      "\n",
      "Reading file /var/folders/v2/qns4f6vs1bv0jcb0f7w2qk_sc_yq4j/T/qiime2/zaneveld/data/f5bba9f9-ccf6-4f7f-9610-aa9dcdb47eca/data/dna-sequences.fasta 100%\n",
      "88535151 nt in 322903 seqs, min 54, max 2366, avg 274\n",
      "Masking 100%\n",
      "Counting k-mers 100%\n",
      "Creating k-mer index 100%\n",
      "Searching 100%\n",
      "Matching unique query sequences: 127 of 464 (27.37%)\n"
     ]
    }
   ],
   "source": [
    "from qiime2.plugins.feature_classifier.pipelines import classify_consensus_vsearch\n",
    "\n",
    "threads = 4\n",
    "\n",
    "\n",
    "vsearch_results = {}\n",
    "references = ['silva','silva_extended']\n",
    "for reference in references:\n",
    "    \n",
    "    #Note: The next two lines just set paths to the sequence and taxonomy qza files, respectively\n",
    "    #If using a custom reference set, you could either name it with the same naming scheme \n",
    "    # my_reference_sequences.qza and my_reference_taxonomy.qza, and add 'my_reference' to the \n",
    "    #references list up above, or just manually set the file names using this section as a \n",
    "    #loose guide.\n",
    "    \n",
    "    reference_otu_path = join(taxonomy_reference_dir, f'{reference}_sequences.qza')\n",
    "    reference_taxonomy_path = join(taxonomy_reference_dir, f'{reference}_taxonomy.qza')\n",
    "    \n",
    "    #Load .qza files as QIIME2 artifacts\n",
    "    reads = Artifact.load(reference_otu_path)\n",
    "    taxonomy = Artifact.load(reference_taxonomy_path)\n",
    "    \n",
    "    #Run VSEARCH, and store results in the vsearch_results dictionary\n",
    "    vsearch_results[reference] = classify_consensus_vsearch(seqs, reads, taxonomy, threads = threads)\n",
    "    \n",
    "print(\"Done running VSEARCH\")"
   ]
  },
  {
   "cell_type": "markdown",
   "metadata": {},
   "source": [
    "## Save each of the taxonomy annotations for your sequences.\n",
    "\n",
    "Finally, save the results of the vsearch taxonomy mapping into taxonomy .qza objects that you can use with downstream QIIME2 scripts. Note that these are *study-specific* classifications of your sequences, unlike the reference taxonomies, which are general."
   ]
  },
  {
   "cell_type": "code",
   "execution_count": 10,
   "metadata": {},
   "outputs": [],
   "source": [
    "for reference in vsearch_results:\n",
    "    classification_taxonomy = vsearch_results[reference].classification\n",
    "    \n",
    "    #Create a .qza file to hold the results of applying a given reference taxonomy\n",
    "    #to your specific sequences (as distinct from the *reference* taxonomy for all known species)\n",
    "    output_filepath = join(working_dir,'output',f\"{reference}_classification_taxonomy.qza\")\n",
    "    classification_taxonomy.save(output_filepath)"
   ]
  },
  {
   "cell_type": "markdown",
   "metadata": {},
   "source": [
    "# Remove mitochondria from samples"
   ]
  },
  {
   "cell_type": "markdown",
   "metadata": {},
   "source": [
    "Now that we have created study-specific taxonomic annotations in the output folder (e.g. `../output/silva_extended_classification_taxonomy.qza`), we can use them to filter our feature tables to remove mitochondria or chloroplast 16S sequences using QIIME2"
   ]
  },
  {
   "cell_type": "markdown",
   "metadata": {},
   "source": [
    "## Set up filepaths\n",
    "\n",
    "First we'll set up variables to hold the filepaths we'll need. "
   ]
  },
  {
   "cell_type": "code",
   "execution_count": 13,
   "metadata": {},
   "outputs": [],
   "source": [
    "#already done up top -- I think this is a duplicated cell; variables aren't called below\n",
    "\n",
    "# output_dir = abspath(\"../output\")\n",
    "# input_filepath = abspath(\"../input\")\n",
    "#mapping_file = metadata_path\n",
    "#sequence_file = seqs_path\n",
    "\n",
    "\n",
    "#These files are specific to your study\n",
    "feature_table_name = 'feature_table_live_vs_dead.qza'\n",
    "feature_table_path = join(input_dir, feature_table_name)\n",
    "\n",
    "\n",
    "\n",
    "#Load the taxonomy files created in the last section.\n",
    "taxonomy_files = {\"silva_base\": \"../output/silva_reference_taxonomy.qza\",\\\n",
    "                  \"silva_extended\": \"../output/silva_extended_reference_taxonomy.qza\"}\n",
    "\n",
    "required_files = [feature_table_path,metadata_path,seqs_path]"
   ]
  },
  {
   "cell_type": "markdown",
   "metadata": {},
   "source": [
    "### Generate filtered feature tables tables with organelle sequences removed.\n",
    "\n",
    "Next we'll use the QIIME2 filter_table command to remove features that are annotated as mitochondria or chloroplasts according to each taxonomy, and output filtered feature tables and feature table summaries for each to allow comparison and reporting."
   ]
  },
  {
   "cell_type": "code",
   "execution_count": 15,
   "metadata": {},
   "outputs": [
    {
     "name": "stdout",
     "output_type": "stream",
     "text": [
      "Analyzing data using the silva classification taxonomy\n",
      "Removing mitochondria from: feature_table_live_vs_dead.qza\n",
      "Saving results to: /Users/zaneveld/Dropbox/Zaneveld_Lab_Organization/Projects/Coral_Mitochondria_Removal/organelle_removal/Tutorial/output/feature_table_filtered_silva.qza\n",
      "Saving file summary to: /Users/zaneveld/Dropbox/Zaneveld_Lab_Organization/Projects/Coral_Mitochondria_Removal/organelle_removal/Tutorial/output/feature_table_filtered_silva.qzv\n",
      "\n",
      "Analyzing data using the silva_extended classification taxonomy\n",
      "Removing mitochondria from: feature_table_live_vs_dead.qza\n",
      "Saving results to: /Users/zaneveld/Dropbox/Zaneveld_Lab_Organization/Projects/Coral_Mitochondria_Removal/organelle_removal/Tutorial/output/feature_table_filtered_silva_extended.qza\n",
      "Saving file summary to: /Users/zaneveld/Dropbox/Zaneveld_Lab_Organization/Projects/Coral_Mitochondria_Removal/organelle_removal/Tutorial/output/feature_table_filtered_silva_extended.qzv\n",
      "\n",
      "Done.\n"
     ]
    }
   ],
   "source": [
    "from collections import defaultdict\n",
    "from qiime2.plugins.feature_table.methods import filter_samples\n",
    "from qiime2.plugins.feature_table.visualizers import summarize\n",
    "from qiime2.plugins.taxa.methods import filter_table\n",
    "\n",
    "filtered_feature_tables_by_taxonomy = defaultdict(dict)\n",
    "\n",
    "feature_table = Artifact.load(feature_table_path)\n",
    "\n",
    "for reference, classification_taxonomy in vsearch_results.items():\n",
    "    print(f'Analyzing data using the {reference} classification taxonomy')\n",
    "    print(f'Removing mitochondria from: {feature_table_name}')\n",
    "    \n",
    "    #Remove organelle sequeces from the feature table\n",
    "    #Note that the Qiime2 API does not return a single object, \n",
    "    #but rather a named Tuple struture with each output, which we save in filter_table_results\n",
    "    filter_table_results = filter_table(table = feature_table, taxonomy = classification_taxonomy.classification,\n",
    "                                        exclude = 'mitochondria,chloroplast',\n",
    "                                        mode = 'contains')\n",
    "    #Additionally remove any samples not in the metadata\n",
    "    filter_table_results = filter_samples(filter_table_results.filtered_table,\n",
    "                                          metadata = metadata)\n",
    "    filtered_table = filter_table_results.filtered_table\n",
    "    \n",
    "    #Save the filtered feature table to a .qza file in the output directory\n",
    "    filtered_table_path = join(output_dir, f'feature_table_filtered_{reference}.qza')\n",
    "    print(f'Saving results to: {filtered_table_path}')\n",
    "    filtered_table.save(filtered_table_path)\n",
    "    \n",
    "    #output a feature table summary visualization\n",
    "    summary_visualization = summarize(filtered_table, sample_metadata = metadata)\n",
    "    vis = summary_visualization.visualization\n",
    "    visualization_path = join(output_dir, f'feature_table_filtered_{reference}.qzv')\n",
    "    print(f'Saving file summary to: {visualization_path}\\n')\n",
    "    vis.save(visualization_path)\n",
    "print('Done.')    "
   ]
  },
  {
   "cell_type": "markdown",
   "metadata": {},
   "source": [
    "## Visualize the difference"
   ]
  },
  {
   "cell_type": "markdown",
   "metadata": {},
   "source": [
    "Now that we've removed the mitochondria, let's see how our estimates of the relative abundance of microbial taxa vary based on whether we used the base SILVA or extended taxonomy.\n",
    "\n"
   ]
  },
  {
   "cell_type": "code",
   "execution_count": null,
   "metadata": {},
   "outputs": [],
   "source": []
  }
 ],
 "metadata": {
  "kernelspec": {
   "display_name": "Python 3 (ipykernel)",
   "language": "python",
   "name": "python3"
  },
  "language_info": {
   "codemirror_mode": {
    "name": "ipython",
    "version": 3
   },
   "file_extension": ".py",
   "mimetype": "text/x-python",
   "name": "python",
   "nbconvert_exporter": "python",
   "pygments_lexer": "ipython3",
   "version": "3.8.18"
  }
 },
 "nbformat": 4,
 "nbformat_minor": 4
}
