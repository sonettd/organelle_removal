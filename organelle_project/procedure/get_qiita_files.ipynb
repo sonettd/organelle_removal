{
 "cells": [
  {
   "cell_type": "code",
   "execution_count": 2,
   "id": "6120bbf6",
   "metadata": {},
   "outputs": [],
   "source": [
    "from Bio import SeqIO\n",
    "import glob\n",
    "import os\n",
    "from qiime2 import Artifact\n",
    "from qiime2.plugins.feature_classifier.methods import extract_reads\n",
    "from qiime2.plugins.feature_table.methods import merge, merge_seqs, merge_taxa\n",
    "import shutil\n",
    "import tarfile\n",
    "import tempfile\n",
    "import urllib.request\n",
    "from zipfile import ZipFile"
   ]
  },
  {
   "cell_type": "code",
   "execution_count": null,
   "id": "65048d5a",
   "metadata": {},
   "outputs": [],
   "source": [
    "qiita_study_id = 11166\n",
    "qiita_artifact_id = [82961, 56596, 56553, 56600, 82881, 56579, 56595, 57972]\n",
    "working_dir = os.path.abspath('../')\n",
    "refs_dir = working_dir + '/taxonomy_references'"
   ]
  },
  {
   "cell_type": "code",
   "execution_count": 3,
   "id": "243ca42f",
   "metadata": {},
   "outputs": [],
   "source": [
    "def download_qiita_files(qiita_study_id, qiita_artifact_id):\n",
    "    \"\"\"Download and extract the metadata from the study as well as the biom\n",
    "    file and fasta file for each artifact listed.\n",
    "    \n",
    "    Parameters\n",
    "    ----------\n",
    "    study_id : int or str\n",
    "        the qiita id of the study\n",
    "    artifact id : int, str, or list of ints or strs\n",
    "        the artifact id of the deblur reference hit table artifact. One\n",
    "        artifact per 16S prep in the study, which will be merged\"\"\"\n",
    "    \n",
    "    #download metadata\n",
    "    download_file('https://qiita.ucsd.edu/public_download/?data=sample_information&study_id=' +\n",
    "                  str(qiita_study_id), working_dir + '/input/metadata.zip')\n",
    "    #download artifacts\n",
    "    if type(qiita_artifact_id) != list:\n",
    "        download_file('https://qiita.ucsd.edu/public_artifact_download/?artifact_id=' +\n",
    "                      str(qiita_artifact_id),\n",
    "                      working_dir + '/input/qiita_artifact.zip')\n",
    "    else:\n",
    "        for artifact_id in qiita_artifact_id:\n",
    "            download_file('https://qiita.ucsd.edu/public_artifact_download/?artifact_id=' +\n",
    "                          str(artifact_id),\n",
    "                          working_dir + '/input/qiita_artifact_' +\n",
    "                          str(artifact_id) + '.zip')\n",
    "    #unzip files\n",
    "    with tempfile.TemporaryDirectory() as temp_dir:\n",
    "        if type(qiita_artifact_id) != list:\n",
    "            with ZipFile(working_dir + '/input/qiita_artifact.zip') as artifact_zip:\n",
    "                artifact_zip.extractall(temp_dir)\n",
    "                biom_path = glob.glob(temp_dir + '/BIOM/' + str(qiita_artifact_id) + '/*.biom')[0]\n",
    "                shutil.copyfile(biom_path, working_dir + '/input/qiita.biom')\n",
    "                fasta_path = glob.glob(temp_dir + '/BIOM/' + str(qiita_artifact_id) + '/*.fa')[0]\n",
    "                shutil.copyfile(fasta_path, working_dir + '/input/qiita.fa')\n",
    "        else:\n",
    "            for artifact_id in qiita_artifact_id:\n",
    "                with ZipFile(working_dir + '/input/qiita_artifact_' + str(artifact_id) + '.zip') as artifact_zip:\n",
    "                    artifact_zip.extractall(temp_dir)\n",
    "                    biom_path = glob.glob(temp_dir + '/BIOM/' + str(artifact_id) + '/*.biom')[0]\n",
    "                    shutil.copyfile(biom_path, working_dir + '/input/qiita_' + str(artifact_id) + '.biom')\n",
    "                    fasta_path = glob.glob(temp_dir + '/BIOM/' + str(artifact_id) + '/*.fa')[0]\n",
    "                    shutil.copyfile(fasta_path, working_dir + '/input/qiita_' + str(artifact_id) + '.fa')\n",
    "        with ZipFile(working_dir + '/input/metadata.zip') as metadata_zip:\n",
    "            metadata_name = metadata_zip.namelist()[0].split('/')[1]\n",
    "            metadata_zip.extractall(temp_dir)\n",
    "        shutil.copyfile(temp_dir + '/templates/' + metadata_name,\n",
    "                        working_dir + '/input/metadata.txt')"
   ]
  },
  {
   "cell_type": "code",
   "execution_count": null,
   "id": "1f215872",
   "metadata": {},
   "outputs": [],
   "source": [
    "download_qiita_files(qiita_study_id, qiita_artifact_id)"
   ]
  },
  {
   "cell_type": "code",
   "execution_count": null,
   "id": "6d49d8aa",
   "metadata": {},
   "outputs": [],
   "source": [
    "if type(qiita_artifact_id) != list:\n",
    "    ft = Artifact.import_data('FeatureTable[Frequency]',\n",
    "                              working_dir + '/input/qiita.biom', 'BIOMV210Format')\n",
    "    seqs = Artifact.import_data('FeatureData[Sequence]',\n",
    "                            working_dir + '/input/qiita.fa')\n",
    "else:\n",
    "    fts = []\n",
    "    sequences = []\n",
    "    for artifact_id in qiita_artifact_id:\n",
    "        fts.append(Artifact.import_data('FeatureTable[Frequency]',\n",
    "                                        working_dir + '/input/qiita_' +\n",
    "                                        str(artifact_id) + '.biom',\n",
    "                                        'BIOMV210Format'))\n",
    "        sequences.append(Artifact.import_data('FeatureData[Sequence]',\n",
    "                         working_dir + '/input/qiita_' + str(artifact_id) + '.fa'))\n",
    "    ft, = merge(fts, 'average')\n",
    "    seqs, = merge_seqs(sequences)\n",
    "ft.save(working_dir + '/input/feature_table.qza')\n",
    "seqs.save(working_dir + '/input/sequences.qza')        "
   ]
  },
  {
   "cell_type": "code",
   "execution_count": null,
   "id": "adb37f7e",
   "metadata": {},
   "outputs": [],
   "source": [
    "with open(working_dir + '/input/metadata.txt') as md_file:\n",
    "    lines = md_file.readlines()\n",
    "#sample_id is not a valid q2 metadata index label and must be changed\n",
    "headers = lines[0].split('\\t', 1)\n",
    "if not headers[0] == '#SampleID':\n",
    "    headers[0] = '#SampleID'\n",
    "    lines[0] = '\\t'.join(headers)\n",
    "    with open(working_dir + '/input/metadata.txt', 'w') as md_file:\n",
    "        md_file.writelines(lines)"
   ]
  },
  {
   "cell_type": "code",
   "execution_count": null,
   "id": "ef14e390",
   "metadata": {},
   "outputs": [],
   "source": [
    "ft = Artifact.import_data('FeatureTable[Frequency]', working_dir + '/input/deblur_all.biom', 'BIOMV210Format')\n",
    "seqs = Artifact.import_data('FeatureData[Sequence]', working_dir + '/input/deblur_all.fa')\n",
    "ft.save(working_dir + '/input/feature_table.qza')\n",
    "seqs.save(working_dir + '/input/sequences.qza')"
   ]
  }
 ],
 "metadata": {
  "kernelspec": {
   "display_name": "Python 3",
   "language": "python",
   "name": "python3"
  },
  "language_info": {
   "codemirror_mode": {
    "name": "ipython",
    "version": 3
   },
   "file_extension": ".py",
   "mimetype": "text/x-python",
   "name": "python",
   "nbconvert_exporter": "python",
   "pygments_lexer": "ipython3",
   "version": "3.8.8"
  }
 },
 "nbformat": 4,
 "nbformat_minor": 5
}
