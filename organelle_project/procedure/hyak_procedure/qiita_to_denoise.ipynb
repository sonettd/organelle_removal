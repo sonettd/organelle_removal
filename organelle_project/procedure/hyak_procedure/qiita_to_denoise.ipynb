{
 "cells": [
  {
   "cell_type": "code",
   "execution_count": 29,
   "id": "70b4f403",
   "metadata": {},
   "outputs": [],
   "source": [
    "import glob\n",
    "import gzip\n",
    "import os\n",
    "import urllib.request\n",
    "import shutil\n",
    "import tempfile\n",
    "from qiime2 import Artifact\n",
    "from qiime2 import Metadata\n",
    "from qiime2.plugins.cutadapt.methods import demux_single\n",
    "from qiime2.plugins.dada2.methods import denoise_single\n",
    "from qiime2.plugins.deblur.methods import denoise_16S\n",
    "from zipfile import ZipFile"
   ]
  },
  {
   "cell_type": "code",
   "execution_count": 3,
   "id": "60575c6a",
   "metadata": {},
   "outputs": [],
   "source": [
    "#artifact of interest is the 'demultiplexed' artifact directly downstream\n",
    "#of split libraries FASTQ (not one of the trimmed artifacts)\n",
    "qiita_prep_id = 6501\n",
    "qiita_artifact_id = 70146\n",
    "working_dir = os.path.abspath('../')\n",
    "refs_dir = working_dir + '/taxonomy_references'"
   ]
  },
  {
   "cell_type": "code",
   "execution_count": 4,
   "id": "d26f5003",
   "metadata": {},
   "outputs": [],
   "source": [
    "def download_file(url, local_filepath):\n",
    "    with urllib.request.urlopen(url) as response, open(local_filepath, 'wb') as out_file:\n",
    "        shutil.copyfileobj(response, out_file)"
   ]
  },
  {
   "cell_type": "code",
   "execution_count": 5,
   "id": "ec701c12",
   "metadata": {},
   "outputs": [],
   "source": [
    "def download_qiita_files(qiita_prep_id, qiita_artifact_id):\n",
    "    \"\"\"Download and extract the metadata from the study as well as the biom\n",
    "    file and fasta file for each artifact listed.\n",
    "    \n",
    "    Parameters\n",
    "    ----------\n",
    "    qiita_prep_id : int or str\n",
    "        the prep id of the run of interest. This ID is unique to each\n",
    "        run within a study.\n",
    "    qiita_artifact_id : int, str, or list of ints or strs\n",
    "        the artifact id of the deblur reference hit table artifact. One\n",
    "        artifact per 16S prep in the study, which will be merged\"\"\"\n",
    "    \n",
    "    download_file('https://qiita.ucsd.edu/public_download/?data=prep_information&prep_id=' +\n",
    "                  str(qiita_prep_id), working_dir + '/input/metadata.zip')\n",
    "    #download artifacts\n",
    "    download_file('https://qiita.ucsd.edu/public_artifact_download/?artifact_id=' +\n",
    "                  str(qiita_artifact_id),\n",
    "                  working_dir + '/input/qiita_artifact.zip')"
   ]
  },
  {
   "cell_type": "code",
   "execution_count": 6,
   "id": "a32359d6",
   "metadata": {},
   "outputs": [],
   "source": [
    "download_qiita_files(qiita_prep_id, qiita_artifact_id)"
   ]
  },
  {
   "cell_type": "code",
   "execution_count": 7,
   "id": "0d32c866",
   "metadata": {},
   "outputs": [],
   "source": [
    "#unzip files\n",
    "with ZipFile(working_dir + '/input/qiita_artifact.zip') as artifact_zip:\n",
    "    with artifact_zip.open('Demultiplexed/' + str(qiita_artifact_id) + '/seqs.fastq.gz') as zipped, open(working_dir + '/input/seqs.fastq.gz', 'wb') as file:\n",
    "        shutil.copyfileobj(zipped, file)\n",
    "with ZipFile(working_dir + '/input/metadata.zip') as metadata_zip:\n",
    "    path = metadata_zip.namelist()[0]\n",
    "    with metadata_zip.open(path) as zipped, open(working_dir + '/input/barcodes.txt', 'wb') as file:\n",
    "        shutil.copyfileobj(zipped, file)"
   ]
  },
  {
   "cell_type": "code",
   "execution_count": 8,
   "id": "2cf2025e",
   "metadata": {},
   "outputs": [],
   "source": [
    "#set up barcode file\n",
    "with open(working_dir + '/input/barcodes.txt') as file:\n",
    "    lines = file.readlines()\n",
    "    lines[0] = '#SampleID\\tbarcode\\tcenter_name\\texperiment_design_description\\tinstrument_model\\tlibrary_construction_protocol\\tpcr_primers\\tplatform\\tprimer\\tqiita_prep_id\\tsequencing_meth\\ttarget_gene\\ttarget_subfragment\\n'\n",
    "    with open(working_dir + '/input/qiime2/barcode_file.tsv', 'w') as metadata:\n",
    "        for line in lines:\n",
    "            metadata.write(line)"
   ]
  },
  {
   "cell_type": "code",
   "execution_count": 11,
   "id": "72156256",
   "metadata": {},
   "outputs": [],
   "source": [
    "metadata = Metadata.load(working_dir + '/input/qiime2/barcode_file.tsv')\n",
    "barcodes = metadata.get_column('barcode')"
   ]
  },
  {
   "cell_type": "code",
   "execution_count": 12,
   "id": "9993d5c6",
   "metadata": {},
   "outputs": [
    {
     "name": "stdout",
     "output_type": "stream",
     "text": [
      "Running external command line application. This may print messages to stdout and/or stderr.\n",
      "The command being run is below. This command cannot be manually re-run as it will depend on temporary files that no longer exist.\n",
      "\n",
      "Command: cutadapt --front file:/tmp/tmpkdgxn8j3 --error-rate 0 --minimum-length 1 -o /tmp/q2-CasavaOneEightSingleLanePerSampleDirFmt-7mz2xtrz/{name}.1.fastq.gz --untrimmed-output /tmp/q2-MultiplexedSingleEndBarcodeInSequenceDirFmt-_ivmnm0x/forward.fastq.gz /tmp/qiime2-archive-nf9twiec/0722ff0e-8a20-4306-9d45-ad593030e6d0/data/forward.fastq.gz\n",
      "\n"
     ]
    }
   ],
   "source": [
    "fastq = Artifact.import_data('MultiplexedSingleEndBarcodeInSequence', working_dir + '/input/seqs.fastq.gz')\n",
    "demultiplexed_per_sample_sequences, untrimmed_sequences = demux_single(fastq, barcodes, 0)"
   ]
  },
  {
   "cell_type": "code",
   "execution_count": 13,
   "id": "84945c84",
   "metadata": {},
   "outputs": [
    {
     "data": {
      "text/plain": [
       "'/mnt/c/Users/dsone/Documents/zaneveld/organelle_project/input/qiime2/demuxed.qza'"
      ]
     },
     "execution_count": 13,
     "metadata": {},
     "output_type": "execute_result"
    }
   ],
   "source": [
    "#save everything\n",
    "fastq.save(working_dir + '/input/qiime2/multiplexed-seqs.qza')\n",
    "demultiplexed_per_sample_sequences.save(working_dir + '/input/qiime2/demuxed.qza')"
   ]
  },
  {
   "cell_type": "code",
   "execution_count": 14,
   "id": "11c98456",
   "metadata": {},
   "outputs": [
    {
     "name": "stdout",
     "output_type": "stream",
     "text": [
      "Running external command line application(s). This may print messages to stdout and/or stderr.\n",
      "The command(s) being run are below. These commands cannot be manually re-run as they will depend on temporary files that no longer exist.\n",
      "\n",
      "Command: run_dada_single.R /tmp/qiime2-archive-nq03ccp3/cb670c56-4df2-4cb0-bd9f-3a3acd0be245/data /tmp/tmpa1xcooej/output.tsv.biom /tmp/tmpa1xcooej/track.tsv /tmp/tmpa1xcooej 100 0 2.0 2 Inf independent consensus 1.0 0 1000000 NULL 16\n",
      "\n"
     ]
    }
   ],
   "source": [
    "table, rep_seqs, stats = denoise_single(demultiplexed_per_sample_sequences, 100, n_threads = 0)\n",
    "table.save(working_dir + '/output/dada2_table.qza')\n",
    "rep_seqs.save(working_dir + '/output/dada2_rep_seqs.qza')"
   ]
  },
  {
   "cell_type": "code",
   "execution_count": 16,
   "id": "5ed53644",
   "metadata": {},
   "outputs": [
    {
     "data": {
      "text/plain": [
       "'/mnt/c/Users/dsone/Documents/zaneveld/organelle_project/output/deblur_rep_seqs.qza'"
      ]
     },
     "execution_count": 16,
     "metadata": {},
     "output_type": "execute_result"
    }
   ],
   "source": [
    "table, rep_seqs, stats = denoise_16S(demultiplexed_per_sample_sequences, 100, jobs_to_start = 4)\n",
    "table.save(working_dir + '/output/deblur_table.qza')\n",
    "rep_seqs.save(working_dir + '/output/deblur_rep_seqs.qza')"
   ]
  },
  {
   "cell_type": "code",
   "execution_count": 18,
   "id": "105f413a",
   "metadata": {},
   "outputs": [],
   "source": [
    "#unoise\n",
    "#unzip fastq qza\n",
    "qza = Artifact.load(working_dir + '/input/qiime2/demuxed.qza')\n",
    "qza.export_data(working_dir + '/input/usearch/')"
   ]
  },
  {
   "cell_type": "code",
   "execution_count": 27,
   "id": "96955e49",
   "metadata": {},
   "outputs": [],
   "source": [
    "#concatenate every fastq file\n",
    "fastqs = glob.glob(working_dir + '/input/usearch/*001.fastq.gz')\n",
    "with open(working_dir + '/input/usearch/seqs.fastq.gz', 'wb') as concatenated:\n",
    "    for fp in fastqs:\n",
    "        with open(fp, 'rb') as fastq:\n",
    "            shutil.copyfileobj(fastq, concatenated)"
   ]
  },
  {
   "cell_type": "code",
   "execution_count": 30,
   "id": "b543dea2",
   "metadata": {},
   "outputs": [],
   "source": [
    "#unzip .gz\n",
    "with gzip.open(working_dir + '/input/usearch/seqs.fastq.gz', 'rb') as gz:\n",
    "    with open(working_dir + '/input/usearch/seqs.fastq', 'wb') as fastq:\n",
    "        shutil.copyfileobj(gz, fastq)"
   ]
  },
  {
   "cell_type": "code",
   "execution_count": 33,
   "id": "5312632f",
   "metadata": {},
   "outputs": [
    {
     "name": "stdout",
     "output_type": "stream",
     "text": [
      "usearch v11.0.667_i86linux32, 4.0Gb RAM (12.3Gb total), 12 cores\n",
      "(C) Copyright 2013-18 Robert C. Edgar, all rights reserved.\n",
      "https://drive5.com/usearch\n",
      "\n",
      "License: personal use only\n",
      "\n",
      "00:02 37Mb    100.0% Processing, 185748 (31.8%) too short\n"
     ]
    }
   ],
   "source": [
    "#truncate to 100\n",
    "!../procedure/usearch -fastx_truncate ../input/usearch/seqs.fastq -trunclen 100 -fastqout ../input/usearch/seqs_100.fastq"
   ]
  },
  {
   "cell_type": "code",
   "execution_count": 34,
   "id": "ae1aa470",
   "metadata": {},
   "outputs": [
    {
     "name": "stdout",
     "output_type": "stream",
     "text": [
      "usearch v11.0.667_i86linux32, 4.0Gb RAM (12.3Gb total), 12 cores\n",
      "(C) Copyright 2013-18 Robert C. Edgar, all rights reserved.\n",
      "https://drive5.com/usearch\n",
      "\n",
      "License: personal use only\n",
      "\n",
      "00:00 4.2Mb  FASTQ base 33 for file ../input/usearch/seqs_100.fastq\n",
      "00:00 38Mb   CPU has 12 cores, defaulting to 10 threads\n",
      "00:02 90Mb    100.0% Filtering, 96.4% passed\n",
      "    397501  Reads (397.5k)                  \n",
      "    383179  Filtered reads (383.2k, 96.4%)\n"
     ]
    }
   ],
   "source": [
    "!../procedure/usearch -fastq_filter ../input/usearch/seqs_100.fastq -fastq_maxee_rate 0.005 -fastaout ../input/usearch/filtered_reads.fasta"
   ]
  },
  {
   "cell_type": "code",
   "execution_count": 35,
   "id": "544f52e3",
   "metadata": {},
   "outputs": [
    {
     "name": "stdout",
     "output_type": "stream",
     "text": [
      "usearch v11.0.667_i86linux32, 4.0Gb RAM (12.3Gb total), 12 cores\n",
      "(C) Copyright 2013-18 Robert C. Edgar, all rights reserved.\n",
      "https://drive5.com/usearch\n",
      "\n",
      "License: personal use only\n",
      "\n",
      "00:00 108Mb   100.0% Reading ../input/usearch/filtered_reads.fasta\n",
      "00:00 75Mb   CPU has 12 cores, defaulting to 10 threads           \n",
      "00:00 234Mb   100.0% DF\n",
      "00:00 238Mb  383179 seqs, 28744 uniques, 18704 singletons (65.1%)\n",
      "00:00 238Mb  Min size 1, median 1, max 28226, avg 13.33\n",
      "00:00 172Mb   100.0% Writing ../input/usearch/uniques.fasta\n"
     ]
    }
   ],
   "source": [
    "!../procedure/usearch -fastx_uniques ../input/usearch/filtered_reads.fasta -fastaout ../input/usearch/uniques.fasta -sizeout -relabel Uniq"
   ]
  },
  {
   "cell_type": "code",
   "execution_count": 36,
   "id": "d16c3837",
   "metadata": {},
   "outputs": [
    {
     "name": "stdout",
     "output_type": "stream",
     "text": [
      "usearch v11.0.667_i86linux32, 4.0Gb RAM (12.3Gb total), 12 cores\n",
      "(C) Copyright 2013-18 Robert C. Edgar, all rights reserved.\n",
      "https://drive5.com/usearch\n",
      "\n",
      "License: personal use only\n",
      "\n",
      "00:00 44Mb    100.0% Reading ../input/usearch/uniques.fasta\n",
      "00:00 11Mb   Getting sizes                                 \n",
      "00:00 11Mb   Sorting 28744 sequences\n",
      "00:00 11Mb    100.0% Writing output\n"
     ]
    }
   ],
   "source": [
    "!../procedure/usearch -sortbysize ../input/usearch/uniques.fasta -fastaout ../input/usearch/sorted_uniques.fasta "
   ]
  },
  {
   "cell_type": "code",
   "execution_count": 37,
   "id": "675f61d3",
   "metadata": {},
   "outputs": [
    {
     "name": "stdout",
     "output_type": "stream",
     "text": [
      "usearch v11.0.667_i86linux32, 4.0Gb RAM (12.3Gb total), 12 cores\n",
      "(C) Copyright 2013-18 Robert C. Edgar, all rights reserved.\n",
      "https://drive5.com/usearch\n",
      "\n",
      "License: personal use only\n",
      "\n",
      "00:00 45Mb    100.0% Reading ../input/usearch/sorted_uniques.fasta\n",
      "00:00 12Mb      0.0% 0 amplicons, 0 bad (size >= 28226)           \n",
      "WARNING: Shifted sequences detected\n",
      "\n",
      "00:00 19Mb    100.0% 556 amplicons, 52943 bad (size >= 8)\n",
      "00:00 26Mb    100.0% 549 good, 8 chimeras                \n",
      "00:00 26Mb    100.0% Writing zotus       \n"
     ]
    }
   ],
   "source": [
    "!../procedure/usearch -unoise3 ../input/usearch/sorted_uniques.fasta -zotus ../output/unoise_zotus.fasta -tabbedout ../output/unoise3.txt"
   ]
  },
  {
   "cell_type": "code",
   "execution_count": null,
   "id": "2bda5fc1",
   "metadata": {},
   "outputs": [],
   "source": []
  }
 ],
 "metadata": {
  "kernelspec": {
   "display_name": "Python 3",
   "language": "python",
   "name": "python3"
  },
  "language_info": {
   "codemirror_mode": {
    "name": "ipython",
    "version": 3
   },
   "file_extension": ".py",
   "mimetype": "text/x-python",
   "name": "python",
   "nbconvert_exporter": "python",
   "pygments_lexer": "ipython3",
   "version": "3.8.8"
  }
 },
 "nbformat": 4,
 "nbformat_minor": 5
}
