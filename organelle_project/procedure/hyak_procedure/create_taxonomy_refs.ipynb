{
 "cells": [
  {
   "cell_type": "code",
   "execution_count": 1,
   "id": "combined-genealogy",
   "metadata": {
    "scrolled": true
   },
   "outputs": [
    {
     "name": "stdout",
     "output_type": "stream",
     "text": [
      "Collecting package metadata (current_repodata.json): done\n",
      "Solving environment: done\n",
      "\n",
      "## Package Plan ##\n",
      "\n",
      "  environment location: /home/dylan/miniconda3/envs/qiime2-2021.4\n",
      "\n",
      "  added / updated specs:\n",
      "    - biopython\n",
      "\n",
      "\n",
      "The following packages will be downloaded:\n",
      "\n",
      "    package                    |            build\n",
      "    ---------------------------|-----------------\n",
      "    biopython-1.79             |   py38h497a2fe_0         2.6 MB  conda-forge\n",
      "    ca-certificates-2021.5.30  |       ha878542_0         136 KB  conda-forge\n",
      "    certifi-2021.5.30          |   py38h578d9bd_0         141 KB  conda-forge\n",
      "    ------------------------------------------------------------\n",
      "                                           Total:         2.9 MB\n",
      "\n",
      "The following NEW packages will be INSTALLED:\n",
      "\n",
      "  biopython          conda-forge/linux-64::biopython-1.79-py38h497a2fe_0\n",
      "\n",
      "The following packages will be UPDATED:\n",
      "\n",
      "  ca-certificates                      2020.12.5-ha878542_0 --> 2021.5.30-ha878542_0\n",
      "  certifi                          2020.12.5-py38h578d9bd_1 --> 2021.5.30-py38h578d9bd_0\n",
      "\n",
      "\n",
      "\n",
      "Downloading and Extracting Packages\n",
      "ca-certificates-2021 | 136 KB    | ##################################### | 100% \n",
      "certifi-2021.5.30    | 141 KB    | ##################################### | 100% \n",
      "biopython-1.79       | 2.6 MB    | ##################################### | 100% \n",
      "Preparing transaction: done\n",
      "Verifying transaction: done\n",
      "Executing transaction: done\n"
     ]
    }
   ],
   "source": [
    "#install biopython into conda env\n",
    "!conda install -c conda-forge biopython -y"
   ]
  },
  {
   "cell_type": "code",
   "execution_count": 2,
   "id": "parental-albany",
   "metadata": {},
   "outputs": [],
   "source": [
    "from Bio import SeqIO\n",
    "import glob\n",
    "import os\n",
    "from qiime2 import Artifact\n",
    "from qiime2.plugins.feature_classifier.methods import extract_reads\n",
    "from qiime2.plugins.feature_table.methods import merge, merge_seqs, merge_taxa\n",
    "import shutil\n",
    "import tarfile\n",
    "import tempfile\n",
    "import urllib.request\n",
    "from zipfile import ZipFile"
   ]
  },
  {
   "cell_type": "code",
   "execution_count": 3,
   "id": "enabling-senate",
   "metadata": {},
   "outputs": [],
   "source": [
    "def download_file(url, local_filepath):\n",
    "    with urllib.request.urlopen(url) as response, open(local_filepath, 'wb') as out_file:\n",
    "        shutil.copyfileobj(response, out_file)"
   ]
  },
  {
   "cell_type": "code",
   "execution_count": 5,
   "id": "czech-lemon",
   "metadata": {},
   "outputs": [],
   "source": [
    "working_dir = os.path.abspath('../')\n",
    "refs_dir = working_dir + '/taxonomy_references'"
   ]
  },
  {
   "cell_type": "code",
   "execution_count": 6,
   "id": "motivated-mentor",
   "metadata": {},
   "outputs": [],
   "source": [
    "if not os.path.exists(refs_dir):\n",
    "    os.mkdir(refs_dir)\n",
    "if not os.path.isfile(refs_dir + '/silva_sequences.qza'):\n",
    "    download_file('https://data.qiime2.org/2021.2/common/silva-138-99-seqs-515-806.qza', \n",
    "                  refs_dir + '/silva_sequences.qza')\n",
    "if not os.path.isfile(refs_dir + '/silva_taxonomy.qza'):\n",
    "    download_file('https://data.qiime2.org/2021.2/common/silva-138-99-tax-515-806.qza', \n",
    "                  refs_dir + '/silva_taxonomy.qza')\n",
    "if not os.path.isfile(refs_dir + '/gg_13_8_otus.tar.gz'):\n",
    "    download_file('ftp://greengenes.microbio.me/greengenes_release/gg_13_5/gg_13_8_otus.tar.gz',\n",
    "                  refs_dir + '/gg_13_8_otus.tar.gz')\n",
    "if not os.path.isfile(refs_dir + '/Metaxa2_2.2.1.tar.gz'):\n",
    "    download_file('https://microbiology.se/sw/Metaxa2_2.2.1.tar.gz',\n",
    "                  refs_dir + '/Metaxa2_2.2.1.tar.gz')\n",
    "if not os.path.isfile(refs_dir + '/PhytoRef_with_taxonomy.fasta'):\n",
    "    download_file('http://phytoref.sb-roscoff.fr/static/downloads/PhytoRef_with_taxonomy.fasta',\n",
    "                  refs_dir + '/PhytoRef_with_taxonomy.fasta')"
   ]
  },
  {
   "cell_type": "code",
   "execution_count": 7,
   "id": "thermal-mississippi",
   "metadata": {},
   "outputs": [],
   "source": [
    "with tarfile.open(refs_dir + '/gg_13_8_otus.tar.gz', 'r:gz') as tar:\n",
    "    tar.extractall(refs_dir)\n",
    "with tarfile.open(refs_dir + '/Metaxa2_2.2.1.tar.gz', 'r:gz') as tar:\n",
    "    tar.extractall(refs_dir)"
   ]
  },
  {
   "cell_type": "code",
   "execution_count": 8,
   "id": "wrapped-account",
   "metadata": {},
   "outputs": [],
   "source": [
    "os.chdir(refs_dir + '/Metaxa2_2.2.1/metaxa2_db/SSU')\n",
    "!blastdbcmd -entry all -db blast -out metaxa2.fasta\n",
    "shutil.copyfile(refs_dir + '/Metaxa2_2.2.1/metaxa2_db/SSU/metaxa2.fasta', \n",
    "                refs_dir + '/metaxa2.fasta')\n",
    "os.chdir(working_dir + '/procedure')"
   ]
  },
  {
   "cell_type": "code",
   "execution_count": 9,
   "id": "expanded-boundary",
   "metadata": {},
   "outputs": [],
   "source": [
    "with open(refs_dir + '/silva_organelle_taxonomy.tsv', 'w') as silva_taxonomy:\n",
    "    with open(refs_dir + '/gg_organelle_taxonomy.tsv', 'w') as gg_taxonomy:\n",
    "        silva_taxonomy.write('Feature ID\\tTaxon\\n')\n",
    "        gg_taxonomy.write('Feature ID\\tTaxon\\n')\n",
    "        with open(refs_dir + '/organelle_sequences.fasta', 'w') as organelle_seqs:\n",
    "            for i, entry in enumerate(SeqIO.parse(refs_dir + '/metaxa2.fasta', 'fasta')):\n",
    "                if 'mitochondria' in entry.description or 'Mitochondria' in entry.description:\n",
    "                    organelle_seqs.write('>metaxa2_mitochondria_' + str(i) + '\\n')\n",
    "                    organelle_seqs.write(str(entry.seq + '\\n'))\n",
    "                    specific_info = str(entry.description).split(';')[-1]\n",
    "                    silva_taxonomy.write('metaxa2_mitochondria_' + str(i) + '\\td__Bacteria; p__Proteobacteria; c__Alphaproteobacteria; o__Rickettsiales; f__Mitochondria; g__Mitochondria; s__' + specific_info + '\\n')\n",
    "                    gg_taxonomy.write('metaxa2_mitochondria_' + str(i) + '\\tk__Bacteria; p__Proteobacteria; c__Alphaproteobacteria; o__Rickettsiales; f__mitochondria; g__Mitochondria; s__' + specific_info + '\\n')\n",
    "            for i, entry in enumerate(SeqIO.parse(refs_dir + '/PhytoRef_with_taxonomy.fasta', 'fasta')):\n",
    "                if not 'XXXXXXXXXX' in entry.seq:   #ditch the weird sequence\n",
    "                    organelle_seqs.write('>phytoref_chloroplast_' + str(i) + '\\n')\n",
    "                    organelle_seqs.write(str(entry.seq + '\\n'))\n",
    "                    specific_info = str(entry.description).split('|')[-1]\n",
    "                    silva_taxonomy.write('phytoref_chloroplast_' + str(i) + '\\td__Bacteria; p__Cyanobacteria; c__Cyanobacteriia; o__Chloroplast; f__Chloroplast; g__Chloroplast; s__' + specific_info + '\\n')\n",
    "                    gg_taxonomy.write('phytoref_chloroplast_' + str(i) + '\\tk__Bacteria; p__Cyanobacteria; c__Chloroplast; o__Chloroplast; f__Chloroplast; g__Chloroplast; s__' + specific_info + '\\n')"
   ]
  },
  {
   "cell_type": "code",
   "execution_count": 10,
   "id": "verified-traveler",
   "metadata": {},
   "outputs": [
    {
     "data": {
      "text/plain": [
       "'/mnt/c/Users/dsone/Documents/zaneveld/organelle_project/taxonomy_references/gg_extended_sequences.qza'"
      ]
     },
     "execution_count": 10,
     "metadata": {},
     "output_type": "execute_result"
    }
   ],
   "source": [
    "#import, select V4 region, merge, save\n",
    "organelle_seqs = Artifact.import_data('FeatureData[Sequence]',\n",
    "                                      refs_dir + '/organelle_sequences.fasta')\n",
    "v4_organelle_seqs, = extract_reads(organelle_seqs, 'GTGYCAGCMGCCGCGGTAA',\n",
    "                                   'GGACTACNVGGGTWTCTAAT', n_jobs = 24,\n",
    "                                   read_orientation = 'forward')\n",
    "silva_extended_seqs, = merge_seqs([v4_organelle_seqs,\n",
    "                                   Artifact.load(refs_dir +\n",
    "                                                 '/silva_sequences.qza')])\n",
    "silva_extended_seqs.save(refs_dir + '/silva_extended_sequences.qza')\n",
    "gg_seqs = Artifact.import_data('FeatureData[Sequence]', refs_dir +\n",
    "                               '/gg_13_8_otus/rep_set/99_otus.fasta')\n",
    "v4_gg_seqs, = extract_reads(gg_seqs, 'GTGYCAGCMGCCGCGGTAA',\n",
    "                            'GGACTACNVGGGTWTCTAAT', n_jobs = 24,\n",
    "                            read_orientation = 'forward')\n",
    "v4_gg_seqs.save(refs_dir + '/gg_sequences.qza')\n",
    "gg_extended_seqs, = merge_seqs([organelle_seqs, gg_seqs])\n",
    "gg_extended_seqs.save(refs_dir + '/gg_extended_sequences.qza')"
   ]
  },
  {
   "cell_type": "code",
   "execution_count": 11,
   "id": "false-sigma",
   "metadata": {},
   "outputs": [
    {
     "data": {
      "text/plain": [
       "'/mnt/c/Users/dsone/Documents/zaneveld/organelle_project/taxonomy_references/gg_extended_taxonomy.qza'"
      ]
     },
     "execution_count": 11,
     "metadata": {},
     "output_type": "execute_result"
    }
   ],
   "source": [
    "silva_organelle_taxonomy = Artifact.import_data('FeatureData[Taxonomy]',\n",
    "                                                refs_dir +\n",
    "                                                '/silva_organelle_taxonomy.tsv')\n",
    "silva_extended_taxonomy, = merge_taxa([silva_organelle_taxonomy,\n",
    "                                       Artifact.load(refs_dir +\n",
    "                                                     '/silva_taxonomy.qza')])\n",
    "silva_extended_taxonomy.save(refs_dir + '/silva_extended_taxonomy.qza')\n",
    "gg_taxonomy = Artifact.import_data('FeatureData[Taxonomy]', refs_dir +\n",
    "                                   '/gg_13_8_otus/taxonomy/99_otu_taxonomy.txt',\n",
    "                                   'HeaderlessTSVTaxonomyFormat')\n",
    "gg_taxonomy.save(refs_dir + '/gg_taxonomy.qza')\n",
    "gg_organelle_taxonomy = Artifact.import_data('FeatureData[Taxonomy]',\n",
    "                                             refs_dir +\n",
    "                                             '/gg_organelle_taxonomy.tsv')\n",
    "gg_extended_taxonomy, = merge_taxa([gg_organelle_taxonomy, gg_taxonomy])\n",
    "gg_extended_taxonomy.save(refs_dir + '/gg_extended_taxonomy.qza')"
   ]
  }
 ],
 "metadata": {
  "kernelspec": {
   "display_name": "Python 3",
   "language": "python",
   "name": "python3"
  },
  "language_info": {
   "codemirror_mode": {
    "name": "ipython",
    "version": 3
   },
   "file_extension": ".py",
   "mimetype": "text/x-python",
   "name": "python",
   "nbconvert_exporter": "python",
   "pygments_lexer": "ipython3",
   "version": "3.8.8"
  }
 },
 "nbformat": 4,
 "nbformat_minor": 5
}
