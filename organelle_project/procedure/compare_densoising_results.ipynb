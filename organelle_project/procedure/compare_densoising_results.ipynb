{
 "cells": [
  {
   "cell_type": "markdown",
   "id": "165357f1",
   "metadata": {},
   "source": [
    "get midstream qiita file\n",
    "\n",
    "run unoise, deblur w positive filter, dada2  \n",
    "    what do each of these take as input?\n",
    "        unoise\n",
    "            preprocessed fasta\n",
    "            quality filter\n",
    "            pool samples\n",
    "            dereplicate\n",
    "            discard singletons\n",
    "            unoise\n",
    "run organelle annotation comparison pipeline"
   ]
  },
  {
   "cell_type": "code",
   "execution_count": 59,
   "id": "dd714649",
   "metadata": {},
   "outputs": [],
   "source": [
    "import os\n",
    "import shutil\n",
    "import gzip\n",
    "import urllib.request\n",
    "from qiime2 import Artifact\n",
    "from qiime2 import Metadata\n",
    "from qiime2.plugins.cutadapt.methods import demux_single\n",
    "from qiime2.plugins.dada2.methods import denoise_single\n",
    "from qiime2.plugins.deblur.methods import denoise_16S"
   ]
  },
  {
   "cell_type": "code",
   "execution_count": 4,
   "id": "9ae34937",
   "metadata": {},
   "outputs": [],
   "source": [
    "working_dir = os.path.abspath('../')\n",
    "refs_dir = working_dir + '/taxonomy_references'"
   ]
  },
  {
   "cell_type": "code",
   "execution_count": 5,
   "id": "09494e61",
   "metadata": {},
   "outputs": [],
   "source": [
    "def download_file(url, local_filepath):\n",
    "    with urllib.request.urlopen(url) as response, open(local_filepath, 'wb') as out_file:\n",
    "        shutil.copyfileobj(response, out_file)"
   ]
  },
  {
   "cell_type": "code",
   "execution_count": 17,
   "id": "42afcb0f",
   "metadata": {},
   "outputs": [],
   "source": [
    "#get the unoise program\n",
    "if not os.path.isfile(working_dir + '/usearch.gz'):\n",
    "    download_file('https://drive5.com/downloads/usearch11.0.667_i86linux32.gz', working_dir + '/usearch.gz')\n",
    "if not os.path.isfile(working_dir + '/usearch'):\n",
    "    with gzip.open(working_dir + '/usearch.gz', 'rb') as gz:\n",
    "        with open(working_dir + '/usearch', 'wb') as usearch:\n",
    "            shutil.copyfileobj(gz, usearch)"
   ]
  },
  {
   "cell_type": "code",
   "execution_count": 30,
   "id": "ab005177",
   "metadata": {},
   "outputs": [
    {
     "name": "stdout",
     "output_type": "stream",
     "text": [
      "usearch v11.0.667_i86linux32, 4.0Gb RAM (12.3Gb total), 12 cores\n",
      "(C) Copyright 2013-18 Robert C. Edgar, all rights reserved.\n",
      "https://drive5.com/usearch\n",
      "\n",
      "License: personal use only\n",
      "\n",
      "00:00 4.2Mb  FASTQ base 33 for file ../input/seqs.fastq\n",
      "00:00 38Mb   CPU has 12 cores, defaulting to 10 threads\n",
      "00:02 90Mb    100.0% Filtering, 96.5% passed\n",
      "    583305  Reads (583.3k)                  \n",
      "    562695  Filtered reads (562.7k, 96.5%)\n"
     ]
    }
   ],
   "source": [
    "!../usearch -fastq_filter ../input/seqs.fastq -fastq_maxee_rate 0.005 -fastaout ../input/usearch/filtered_reads.fasta"
   ]
  },
  {
   "cell_type": "code",
   "execution_count": 31,
   "id": "e12e47c9",
   "metadata": {},
   "outputs": [
    {
     "name": "stdout",
     "output_type": "stream",
     "text": [
      "usearch v11.0.667_i86linux32, 4.0Gb RAM (12.3Gb total), 12 cores\n",
      "(C) Copyright 2013-18 Robert C. Edgar, all rights reserved.\n",
      "https://drive5.com/usearch\n",
      "\n",
      "License: personal use only\n",
      "\n",
      "00:01 142Mb   100.0% Reading ../input/usearch/filtered_reads.fasta\n",
      "00:01 108Mb  CPU has 12 cores, defaulting to 10 threads           \n",
      "00:01 307Mb   100.0% DF\n",
      "00:01 313Mb  562695 seqs, 93938 uniques, 67785 singletons (72.2%)\n",
      "00:01 313Mb  Min size 1, median 1, max 4521, avg 5.99\n",
      "00:01 217Mb   100.0% Writing ../input/usearch/uniques.fasta\n"
     ]
    }
   ],
   "source": [
    "!../usearch -fastx_uniques ../input/usearch/filtered_reads.fasta -fastaout ../input/usearch/uniques.fasta -sizeout -relabel Uniq"
   ]
  },
  {
   "cell_type": "code",
   "execution_count": 32,
   "id": "c8fcb599",
   "metadata": {},
   "outputs": [
    {
     "name": "stdout",
     "output_type": "stream",
     "text": [
      "usearch v11.0.667_i86linux32, 4.0Gb RAM (12.3Gb total), 12 cores\n",
      "(C) Copyright 2013-18 Robert C. Edgar, all rights reserved.\n",
      "https://drive5.com/usearch\n",
      "\n",
      "License: personal use only\n",
      "\n",
      "00:00 53Mb    100.0% Reading ../input/usearch/uniques.fasta\n",
      "00:00 19Mb   Getting sizes                                 \n",
      "00:00 20Mb   Sorting 93938 sequences\n",
      "00:00 20Mb    100.0% Writing output\n"
     ]
    }
   ],
   "source": [
    "!../usearch -sortbysize ../input/usearch/uniques.fasta -fastaout ../input/usearch/sorted_uniques.fasta "
   ]
  },
  {
   "cell_type": "code",
   "execution_count": 33,
   "id": "c18a5d34",
   "metadata": {},
   "outputs": [
    {
     "name": "stdout",
     "output_type": "stream",
     "text": [
      "usearch v11.0.667_i86linux32, 4.0Gb RAM (12.3Gb total), 12 cores\n",
      "(C) Copyright 2013-18 Robert C. Edgar, all rights reserved.\n",
      "https://drive5.com/usearch\n",
      "\n",
      "License: personal use only\n",
      "\n",
      "00:00 53Mb    100.0% Reading ../input/usearch/sorted_uniques.fasta\n",
      "00:01 21Mb      0.0% 0 amplicons, 0 bad (size >= 4521)            \n",
      "WARNING: Shifted sequences detected\n",
      "\n",
      "00:01 55Mb    100.0% 4604 amplicons, 27946 bad (size >= 8)\n",
      "00:06 62Mb    100.0% 3819 good, 785 chimeras              \n",
      "00:06 62Mb    100.0% Writing zotus          \n"
     ]
    }
   ],
   "source": [
    "!../usearch -unoise3 ../input/usearch/sorted_uniques.fasta -zotus ../output/unoise_zotus.fasta -tabbedout ../output/unoise3.txt"
   ]
  },
  {
   "cell_type": "code",
   "execution_count": null,
   "id": "a14cce87",
   "metadata": {},
   "outputs": [],
   "source": [
    "#end of usearch/unoise"
   ]
  },
  {
   "cell_type": "code",
   "execution_count": 34,
   "id": "8b8d4c89",
   "metadata": {},
   "outputs": [],
   "source": [
    "#run dada2 on dataset\n",
    "#can be done in qiime"
   ]
  },
  {
   "cell_type": "code",
   "execution_count": 41,
   "id": "60cdb93b",
   "metadata": {},
   "outputs": [
    {
     "data": {
      "text/plain": [
       "'/mnt/c/Users/dsone/Documents/zaneveld/organelle_project/input/qiime2/multiplexed-seqs.qza'"
      ]
     },
     "execution_count": 41,
     "metadata": {},
     "output_type": "execute_result"
    }
   ],
   "source": [
    "#import data to qiime\n",
    "fastq = Artifact.import_data('MultiplexedSingleEndBarcodeInSequence', working_dir + '/input/121714_seqs.fastq.gz')\n",
    "fastq.save(working_dir + '/input/qiime2/multiplexed-seqs.qza')"
   ]
  },
  {
   "cell_type": "code",
   "execution_count": 48,
   "id": "ff3dd34a",
   "metadata": {},
   "outputs": [],
   "source": [
    "with open(working_dir + '/input/12366_prep_6501_20201201-082351.txt') as file:\n",
    "    lines = file.readlines()\n",
    "    lines[0] = 'sample-id\\tbarcode\\tcenter_name\\texperiment_design_description\\tinstrument_model\\tlibrary_construction_protocol\\tpcr_primers\\tplatform\\tprimer\\tqiita_prep_id\\tsequencing_meth\\ttarget_gene\\ttarget_subfragment\\n'\n",
    "    with open(working_dir + '/input/qiime2/barcode_file.tsv', 'w') as metadata:\n",
    "        for line in lines:\n",
    "            metadata.write(line)"
   ]
  },
  {
   "cell_type": "code",
   "execution_count": 49,
   "id": "3bf8f738",
   "metadata": {},
   "outputs": [],
   "source": [
    "metadata = Metadata.load(working_dir + '/input/qiime2/barcode_file.tsv')"
   ]
  },
  {
   "cell_type": "code",
   "execution_count": 50,
   "id": "54513b6f",
   "metadata": {},
   "outputs": [
    {
     "data": {
      "text/plain": [
       "<CategoricalMetadataColumn name='barcode' id_count=105>"
      ]
     },
     "execution_count": 50,
     "metadata": {},
     "output_type": "execute_result"
    }
   ],
   "source": [
    "barcodes = metadata.get_column('barcode')\n",
    "barcodes"
   ]
  },
  {
   "cell_type": "code",
   "execution_count": 51,
   "id": "a6c7e8ee",
   "metadata": {},
   "outputs": [
    {
     "name": "stdout",
     "output_type": "stream",
     "text": [
      "Running external command line application. This may print messages to stdout and/or stderr.\n",
      "The command being run is below. This command cannot be manually re-run as it will depend on temporary files that no longer exist.\n",
      "\n",
      "Command: cutadapt --front file:/tmp/tmp0v21hssa --error-rate 0 --minimum-length 1 -o /tmp/q2-CasavaOneEightSingleLanePerSampleDirFmt-rdpkecgq/{name}.1.fastq.gz --untrimmed-output /tmp/q2-MultiplexedSingleEndBarcodeInSequenceDirFmt-0t7ri8qe/forward.fastq.gz /tmp/qiime2-archive-nx0nmfn6/4321180c-996d-4d99-9cde-393384716461/data/forward.fastq.gz\n",
      "\n"
     ]
    }
   ],
   "source": [
    "demultiplexed_per_sample_sequences, untrimmed_sequences = demux_single(fastq, barcodes, 0)"
   ]
  },
  {
   "cell_type": "code",
   "execution_count": 53,
   "id": "7c97c13b",
   "metadata": {},
   "outputs": [
    {
     "data": {
      "text/plain": [
       "'/mnt/c/Users/dsone/Documents/zaneveld/organelle_project/input/qiime2/demuxed.qza'"
      ]
     },
     "execution_count": 53,
     "metadata": {},
     "output_type": "execute_result"
    }
   ],
   "source": [
    "demultiplexed_per_sample_sequences.save(working_dir + '/input/qiime2/demuxed.qza')"
   ]
  },
  {
   "cell_type": "code",
   "execution_count": 63,
   "id": "fe2a8311",
   "metadata": {},
   "outputs": [
    {
     "name": "stdout",
     "output_type": "stream",
     "text": [
      "Running external command line application. This may print messages to stdout and/or stderr.\n",
      "The command being run is below. This command cannot be manually re-run as it will depend on temporary files that no longer exist.\n",
      "\n",
      "Command: cutadapt --front file:/tmp/tmp9zmu50cz --error-rate 0 --minimum-length 1 -o /tmp/q2-CasavaOneEightSingleLanePerSampleDirFmt-7odkbpyl/{name}.1.fastq.gz --untrimmed-output /tmp/q2-MultiplexedSingleEndBarcodeInSequenceDirFmt-o46lzrbp/forward.fastq.gz /tmp/qiime2-archive-15rxqvz6/97dc9fb5-151e-41db-915d-aea6c531d4ee/data/forward.fastq.gz\n",
      "\n"
     ]
    }
   ],
   "source": [
    "#streamlined\n",
    "#convert prep file to metadata file\n",
    "#with open(working_dir + '/input/12366_prep_6501_20201201-082351.txt') as file:\n",
    "#    lines = file.readlines()\n",
    "#    lines[0] = 'sample-id\\tbarcode\\tcenter_name\\texperiment_design_description\\tinstrument_model\\tlibrary_construction_protocol\\tpcr_primers\\tplatform\\tprimer\\tqiita_prep_id\\tsequencing_meth\\ttarget_gene\\ttarget_subfragment\\n'\n",
    "#    with open(working_dir + '/input/qiime2/barcode_file.tsv', 'w') as metadata:\n",
    "#        for line in lines:\n",
    "#            metadata.write(line)\n",
    "metadata = Metadata.load(working_dir + '/input/qiime2/barcode_file.tsv')\n",
    "barcodes = metadata.get_column('barcode')\n",
    "\n",
    "fastq = Artifact.import_data('MultiplexedSingleEndBarcodeInSequence', working_dir + '/input/70146_seqs.fastq.gz')\n",
    "demultiplexed_per_sample_sequences, untrimmed_sequences = demux_single(fastq, barcodes, 0)\n"
   ]
  },
  {
   "cell_type": "code",
   "execution_count": 64,
   "id": "a45bb849",
   "metadata": {},
   "outputs": [
    {
     "name": "stdout",
     "output_type": "stream",
     "text": [
      "Running external command line application(s). This may print messages to stdout and/or stderr.\n",
      "The command(s) being run are below. These commands cannot be manually re-run as they will depend on temporary files that no longer exist.\n",
      "\n",
      "Command: run_dada_single.R /tmp/qiime2-archive-3jycpggi/8edd41ed-b35c-40bd-8b30-ac4991d16d09/data /tmp/tmp5wypwrmi/output.tsv.biom /tmp/tmp5wypwrmi/track.tsv /tmp/tmp5wypwrmi 100 0 2.0 2 Inf independent consensus 1.0 0 1000000 NULL 16\n",
      "\n"
     ]
    }
   ],
   "source": [
    "#dada2\n",
    "table, rep_seqs, stats = denoise_single(demultiplexed_per_sample_sequences, 100, n_threads = 0)"
   ]
  },
  {
   "cell_type": "code",
   "execution_count": 65,
   "id": "40ec6add",
   "metadata": {},
   "outputs": [
    {
     "data": {
      "text/plain": [
       "'/mnt/c/Users/dsone/Documents/zaneveld/organelle_project/output/dada2_rep_seqs.qza'"
      ]
     },
     "execution_count": 65,
     "metadata": {},
     "output_type": "execute_result"
    }
   ],
   "source": [
    "table.save(working_dir + '/output/dada2_table.qza')\n",
    "rep_seqs.save(working_dir + '/output/dada2_rep_seqs.qza')"
   ]
  },
  {
   "cell_type": "code",
   "execution_count": 66,
   "id": "bc8945d2",
   "metadata": {},
   "outputs": [],
   "source": [
    "#deblur\n",
    "table, rep_seqs, stats = denoise_16S(demultiplexed_per_sample_sequences, 100, jobs_to_start = 4)"
   ]
  },
  {
   "cell_type": "code",
   "execution_count": 67,
   "id": "08312441",
   "metadata": {},
   "outputs": [
    {
     "data": {
      "text/plain": [
       "'/mnt/c/Users/dsone/Documents/zaneveld/organelle_project/output/deblur_rep_seqs.qza'"
      ]
     },
     "execution_count": 67,
     "metadata": {},
     "output_type": "execute_result"
    }
   ],
   "source": [
    "table.save(working_dir + '/output/deblur_table.qza')\n",
    "rep_seqs.save(working_dir + '/output/deblur_rep_seqs.qza')"
   ]
  },
  {
   "cell_type": "code",
   "execution_count": null,
   "id": "3af5358c",
   "metadata": {},
   "outputs": [],
   "source": []
  }
 ],
 "metadata": {
  "kernelspec": {
   "display_name": "Python 3",
   "language": "python",
   "name": "python3"
  },
  "language_info": {
   "codemirror_mode": {
    "name": "ipython",
    "version": 3
   },
   "file_extension": ".py",
   "mimetype": "text/x-python",
   "name": "python",
   "nbconvert_exporter": "python",
   "pygments_lexer": "ipython3",
   "version": "3.8.8"
  }
 },
 "nbformat": 4,
 "nbformat_minor": 5
}
