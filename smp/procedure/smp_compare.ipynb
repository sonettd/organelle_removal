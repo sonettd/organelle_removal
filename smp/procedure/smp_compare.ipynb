{
 "cells": [
  {
   "cell_type": "code",
   "execution_count": 16,
   "id": "saved-escape",
   "metadata": {},
   "outputs": [
    {
     "name": "stdout",
     "output_type": "stream",
     "text": [
      "Collecting package metadata (current_repodata.json): done\n",
      "Solving environment: done\n",
      "\n",
      "## Package Plan ##\n",
      "\n",
      "  environment location: /home/dylan/miniconda3/envs/qiime2-2021.2\n",
      "\n",
      "  added / updated specs:\n",
      "    - biopython\n",
      "\n",
      "\n",
      "The following NEW packages will be INSTALLED:\n",
      "\n",
      "  biopython          conda-forge/linux-64::biopython-1.78-py36h8f6f2f9_1\n",
      "\n",
      "\n",
      "Preparing transaction: done\n",
      "Verifying transaction: done\n",
      "Executing transaction: done\n"
     ]
    }
   ],
   "source": [
    "#if biopython isn't installed:\n",
    "!conda install -c conda-forge biopython -y"
   ]
  },
  {
   "cell_type": "code",
   "execution_count": 1,
   "id": "alone-spell",
   "metadata": {},
   "outputs": [],
   "source": [
    "#this workflow will compare annotations of sequences from the sponge\n",
    "#microbiome project using the latest q2 silva release, and a custom\n",
    "#silva taxonomy with additional mitochondrial sequences"
   ]
  },
  {
   "cell_type": "code",
   "execution_count": 1,
   "id": "dietary-glasgow",
   "metadata": {},
   "outputs": [],
   "source": [
    "import os\n",
    "import tempfile\n",
    "import pandas as pd\n",
    "import seaborn as sns\n",
    "\n",
    " \n",
    "from qiime2 import Artifact\n",
    "from qiime2.metadata import Metadata\n",
    "from qiime2.plugins.feature_classifier.methods import extract_reads\n",
    "from qiime2.plugins.feature_table.methods import merge, merge_seqs, merge_taxa, relative_frequency\n",
    "from qiime2.plugins.feature_table.visualizers import summarize\n",
    "from qiime2.plugins.feature_classifier.methods import classify_consensus_vsearch\n",
    "from qiime2.plugins.taxa.visualizers import barplot\n",
    "from qiime2 import Visualization\n",
    "\n",
    "from scipy import stats\n",
    "\n",
    "%matplotlib inline\n",
    "working_dir = os.path.abspath('../')"
   ]
  },
  {
   "cell_type": "code",
   "execution_count": 12,
   "id": "played-twist",
   "metadata": {},
   "outputs": [],
   "source": [
    "#set up taxonomies\n",
    "#manually downloaded: https://data.qiime2.org/2021.2/common/silva-138-99-seqs-515-806.qza\n",
    "#manually downloaded: https://data.qiime2.org/2021.2/common/silva-138-99-tax-515-806.qza\n",
    "#manually extracted data files from both"
   ]
  },
  {
   "cell_type": "code",
   "execution_count": 36,
   "id": "polished-chancellor",
   "metadata": {},
   "outputs": [],
   "source": [
    "#construct supplemented taxonomy/sequence files\n",
    "silva_taxonomy_path = working_dir + '/input/taxonomy.tsv'\n",
    "silva_sequences_path = working_dir + '/input/dna-sequences.fasta'\n",
    "m2_path = working_dir + '/input/metaxa2.fasta'\n",
    "extended_taxonomy_path = working_dir + '/input/extended_taxonomy.tsv'\n",
    "extended_sequences_path = working_dir + '/input/extended_sequences.fasta'\n",
    "\n",
    "#extract mitochondrial sequences from m2\n",
    "with open(extended_taxonomy_path, 'w') as extended_taxonomy:\n",
    "    extended_taxonomy.write('Feature ID\\tTaxon\\n')\n",
    "    with open(extended_sequences_path, 'w') as extended_sequences:\n",
    "        for i, entry in enumerate(SeqIO.parse(m2_path, 'fasta')):\n",
    "            if 'mitochondria' in entry.description or 'Mitochondria' in entry.description:\n",
    "                extended_sequences.write('>metaxa2_' + str(i) + '\\n')\n",
    "                extended_sequences.write(str(entry.seq + '\\n'))\n",
    "                specific_info = str(entry.description).split(';')[-1]\n",
    "                extended_taxonomy.write('metaxa2_' + str(i) + '\\td__Bacteria; p__Proteobacteria; c__Alphaproteobacteria; o__Rickettsiales; f__Mitochondria; g__Mitochondria; s__' + specific_info + '\\n')"
   ]
  },
  {
   "cell_type": "code",
   "execution_count": 30,
   "id": "hungry-effort",
   "metadata": {},
   "outputs": [
    {
     "data": {
      "text/plain": [
       "'/mnt/c/Users/dsone/Documents/zaneveld/smp/input/extended_sequences.qza'"
      ]
     },
     "execution_count": 30,
     "metadata": {},
     "output_type": "execute_result"
    }
   ],
   "source": [
    "#generate 515f-806r reads of m2\n",
    "#https://forum.qiime2.org/t/processing-filtering-and-evaluating-the-silva-database-and-other-reference-sequence-data-with-rescript/15494\n",
    "#import to q2\n",
    "m2_seqs = Artifact.import_data('FeatureData[Sequence]', extended_sequences_path)\n",
    "\n",
    "#extract v4\n",
    "v4_m2_seqs, = extract_reads(m2_seqs, 'GTGYCAGCMGCCGCGGTAA', 'GGACTACNVGGGTWTCTAAT', n_jobs = 4, read_orientation = 'forward')\n",
    "\n",
    "#merge with silva\n",
    "extended_sequences, = merge_seqs([v4_m2_seqs, Artifact.load(working_dir + '/input/silva-138-99-seqs-515-806.qza')])\n",
    "\n",
    "#export\n",
    "extended_sequences.save(working_dir + '/input/extended_sequences.qza')"
   ]
  },
  {
   "cell_type": "code",
   "execution_count": 37,
   "id": "independent-campus",
   "metadata": {},
   "outputs": [
    {
     "data": {
      "text/plain": [
       "'/mnt/c/Users/dsone/Documents/zaneveld/smp/input/extended_taxonomy.qza'"
      ]
     },
     "execution_count": 37,
     "metadata": {},
     "output_type": "execute_result"
    }
   ],
   "source": [
    "#merge taxonomy files\n",
    "m2_taxonomy = Artifact.import_data('FeatureData[Taxonomy]', working_dir + '/input/extended_taxonomy.tsv')\n",
    "extended_taxonomy, = merge_taxa([m2_taxonomy, Artifact.load(working_dir + '/input/silva-138-99-tax-515-806.qza')])\n",
    "extended_taxonomy.save(working_dir + '/input/extended_taxonomy.qza')"
   ]
  },
  {
   "cell_type": "code",
   "execution_count": 9,
   "id": "respiratory-spring",
   "metadata": {},
   "outputs": [
    {
     "data": {
      "text/plain": [
       "'/mnt/c/Users/dsone/Documents/zaneveld/smp/input/seqs.qza'"
      ]
     },
     "execution_count": 9,
     "metadata": {},
     "output_type": "execute_result"
    }
   ],
   "source": [
    "#smp has nine different biom tables and nine different fasta files\n",
    "#these were manually downloaded from qiita and must be merged, which is\n",
    "#easier to do in q2, after importing\n",
    "file_ids = [56699, 57025, 61467, 61513, 61542, 61905, 61906, 61948, 62042]\n",
    "fts = []\n",
    "sequences = []\n",
    "for file_id in file_ids:\n",
    "    biom_path = working_dir + '/input/' + str(file_id) + '_all.biom'\n",
    "    fasta_path = working_dir + '/input/' + str(file_id) + '_all.seqs.fa'\n",
    "    ft = Artifact.import_data('FeatureTable[Frequency]', biom_path, 'BIOMV210Format')\n",
    "    fts.append(ft)\n",
    "    seqs = Artifact.import_data('FeatureData[Sequence]', fasta_path)\n",
    "    sequences.append(seqs)\n",
    "ft, = merge(fts)\n",
    "ft.save(working_dir + '/input/ft.qza')\n",
    "seqs, = merge_seqs(sequences)\n",
    "seqs.save(working_dir + '/input/seqs.qza')"
   ]
  },
  {
   "cell_type": "code",
   "execution_count": 11,
   "id": "short-parks",
   "metadata": {
    "scrolled": true
   },
   "outputs": [
    {
     "name": "stdout",
     "output_type": "stream",
     "text": [
      "Running external command line application. This may print messages to stdout and/or stderr.\n",
      "The command being run is below. This command cannot be manually re-run as it will depend on temporary files that no longer exist.\n",
      "\n",
      "Command: vsearch --usearch_global /tmp/qiime2-archive-bw7td2gt/509ab548-a28d-42de-862d-3b5a6726a4fe/data/dna-sequences.fasta --id 0.8 --query_cov 0.8 --strand both --maxaccepts 10 --maxrejects 0 --db /tmp/qiime2-archive-udmr3xg9/b41681fb-a4e7-4ef8-a23a-a26f1bcfd272/data/dna-sequences.fasta --threads 8 --output_no_hits --blast6out /tmp/tmpxphbf23j\n",
      "\n",
      "Running external command line application. This may print messages to stdout and/or stderr.\n",
      "The command being run is below. This command cannot be manually re-run as it will depend on temporary files that no longer exist.\n",
      "\n",
      "Command: vsearch --usearch_global /tmp/qiime2-archive-bw7td2gt/509ab548-a28d-42de-862d-3b5a6726a4fe/data/dna-sequences.fasta --id 0.8 --query_cov 0.8 --strand both --maxaccepts 10 --maxrejects 0 --db /tmp/qiime2-archive-z2m37yfc/feefe35e-12af-4879-8a8b-106ddaf538df/data/dna-sequences.fasta --threads 8 --output_no_hits --blast6out /tmp/tmpe2cfvedz\n",
      "\n"
     ]
    },
    {
     "data": {
      "text/plain": [
       "'/mnt/c/Users/dsone/Documents/zaneveld/smp/output/extended_smp_classification_taxonomy.qza'"
      ]
     },
     "execution_count": 11,
     "metadata": {},
     "output_type": "execute_result"
    }
   ],
   "source": [
    "sequence_path = working_dir + '/input/seqs.qza'\n",
    "seqs = Artifact.load(sequence_path)\n",
    "silva_seqs = Artifact.load(working_dir + '/input/silva-138-99-seqs-515-806.qza')\n",
    "silva_taxonomy = Artifact.load(working_dir + '/input/silva-138-99-tax-515-806.qza')\n",
    "extended_seqs = Artifact.load(working_dir + '/input/extended_sequences.qza')\n",
    "extended_taxonomy = Artifact.load(working_dir + '/input/extended_taxonomy.qza')\n",
    "silva_classification_taxonomy, = classify_consensus_vsearch(seqs,\n",
    "                                                           silva_seqs,\n",
    "                                                           silva_taxonomy,\n",
    "                                                           threads = 8)\n",
    "silva_classification_taxonomy.save(working_dir + '/output/silva_smp_classification_taxonomy.qza')\n",
    "extended_classification_taxonomy, = classify_consensus_vsearch(seqs,\n",
    "                                                              extended_seqs,\n",
    "                                                              extended_taxonomy,\n",
    "                                                              threads = 8)\n",
    "extended_classification_taxonomy.save(working_dir + '/output/extended_smp_classification_taxonomy.qza')"
   ]
  },
  {
   "cell_type": "code",
   "execution_count": 4,
   "id": "absent-target",
   "metadata": {},
   "outputs": [
    {
     "ename": "MetadataFileError",
     "evalue": "There was an issue with loading the metadata file:\n\nMetadata IDs must be unique. The following IDs are duplicated: '10346.1', '10346.11', '10346.12', '10346.2', '10346.3', '10346.4', '10346.5', '10346.6'\n\nThere may be more errors present in the metadata file. To get a full report, sample/feature metadata files can be validated with Keemei: https://keemei.qiime2.org\n\nFind details on QIIME 2 metadata requirements here: https://docs.qiime2.org/2021.2/tutorials/metadata/",
     "output_type": "error",
     "traceback": [
      "\u001b[0;31m---------------------------------------------------------------------------\u001b[0m",
      "\u001b[0;31mValueError\u001b[0m                                Traceback (most recent call last)",
      "\u001b[0;32m~/miniconda3/envs/qiime2-2021.2/lib/python3.6/site-packages/qiime2/metadata/io.py\u001b[0m in \u001b[0;36mread\u001b[0;34m(self, into, column_types)\u001b[0m\n\u001b[1;32m    122\u001b[0m         \u001b[0;32mtry\u001b[0m\u001b[0;34m:\u001b[0m\u001b[0;34m\u001b[0m\u001b[0;34m\u001b[0m\u001b[0m\n\u001b[0;32m--> 123\u001b[0;31m             \u001b[0;32mreturn\u001b[0m \u001b[0minto\u001b[0m\u001b[0;34m(\u001b[0m\u001b[0mdf\u001b[0m\u001b[0;34m)\u001b[0m\u001b[0;34m\u001b[0m\u001b[0;34m\u001b[0m\u001b[0m\n\u001b[0m\u001b[1;32m    124\u001b[0m         \u001b[0;32mexcept\u001b[0m \u001b[0mException\u001b[0m \u001b[0;32mas\u001b[0m \u001b[0me\u001b[0m\u001b[0;34m:\u001b[0m\u001b[0;34m\u001b[0m\u001b[0;34m\u001b[0m\u001b[0m\n",
      "\u001b[0;32m~/miniconda3/envs/qiime2-2021.2/lib/python3.6/site-packages/qiime2/metadata/metadata.py\u001b[0m in \u001b[0;36m__init__\u001b[0;34m(self, dataframe)\u001b[0m\n\u001b[1;32m    356\u001b[0m \u001b[0;34m\u001b[0m\u001b[0m\n\u001b[0;32m--> 357\u001b[0;31m         \u001b[0msuper\u001b[0m\u001b[0;34m(\u001b[0m\u001b[0;34m)\u001b[0m\u001b[0;34m.\u001b[0m\u001b[0m__init__\u001b[0m\u001b[0;34m(\u001b[0m\u001b[0mdataframe\u001b[0m\u001b[0;34m.\u001b[0m\u001b[0mindex\u001b[0m\u001b[0;34m)\u001b[0m\u001b[0;34m\u001b[0m\u001b[0;34m\u001b[0m\u001b[0m\n\u001b[0m\u001b[1;32m    358\u001b[0m \u001b[0;34m\u001b[0m\u001b[0m\n",
      "\u001b[0;32m~/miniconda3/envs/qiime2-2021.2/lib/python3.6/site-packages/qiime2/metadata/metadata.py\u001b[0m in \u001b[0;36m__init__\u001b[0;34m(self, index)\u001b[0m\n\u001b[1;32m     98\u001b[0m \u001b[0;34m\u001b[0m\u001b[0m\n\u001b[0;32m---> 99\u001b[0;31m         \u001b[0mself\u001b[0m\u001b[0;34m.\u001b[0m\u001b[0m_validate_index\u001b[0m\u001b[0;34m(\u001b[0m\u001b[0mindex\u001b[0m\u001b[0;34m,\u001b[0m \u001b[0maxis\u001b[0m\u001b[0;34m=\u001b[0m\u001b[0;34m'id'\u001b[0m\u001b[0;34m)\u001b[0m\u001b[0;34m\u001b[0m\u001b[0;34m\u001b[0m\u001b[0m\n\u001b[0m\u001b[1;32m    100\u001b[0m         \u001b[0mself\u001b[0m\u001b[0;34m.\u001b[0m\u001b[0m_ids\u001b[0m \u001b[0;34m=\u001b[0m \u001b[0mtuple\u001b[0m\u001b[0;34m(\u001b[0m\u001b[0mindex\u001b[0m\u001b[0;34m)\u001b[0m\u001b[0;34m\u001b[0m\u001b[0;34m\u001b[0m\u001b[0m\n",
      "\u001b[0;32m~/miniconda3/envs/qiime2-2021.2/lib/python3.6/site-packages/qiime2/metadata/metadata.py\u001b[0m in \u001b[0;36m_validate_index\u001b[0;34m(cls, index, axis)\u001b[0m\n\u001b[1;32m    174\u001b[0m                 \u001b[0;34m\"duplicated: %s\"\u001b[0m \u001b[0;34m%\u001b[0m\u001b[0;34m\u001b[0m\u001b[0;34m\u001b[0m\u001b[0m\n\u001b[0;32m--> 175\u001b[0;31m                 (label, label, ', '.join(repr(e) for e in sorted(duplicates))))\n\u001b[0m\u001b[1;32m    176\u001b[0m \u001b[0;34m\u001b[0m\u001b[0m\n",
      "\u001b[0;31mValueError\u001b[0m: Metadata IDs must be unique. The following IDs are duplicated: '10346.1', '10346.11', '10346.12', '10346.2', '10346.3', '10346.4', '10346.5', '10346.6'",
      "\nDuring handling of the above exception, another exception occurred:\n",
      "\u001b[0;31mMetadataFileError\u001b[0m                         Traceback (most recent call last)",
      "\u001b[0;32m<ipython-input-4-0bab066ad0de>\u001b[0m in \u001b[0;36m<module>\u001b[0;34m\u001b[0m\n\u001b[1;32m      2\u001b[0m \u001b[0;31m#first, summarize the ft to get rid of biom format\u001b[0m\u001b[0;34m\u001b[0m\u001b[0;34m\u001b[0m\u001b[0;34m\u001b[0m\u001b[0m\n\u001b[1;32m      3\u001b[0m \u001b[0mft\u001b[0m \u001b[0;34m=\u001b[0m \u001b[0mArtifact\u001b[0m\u001b[0;34m.\u001b[0m\u001b[0mload\u001b[0m\u001b[0;34m(\u001b[0m\u001b[0mworking_dir\u001b[0m \u001b[0;34m+\u001b[0m \u001b[0;34m'/output/smp_ft.qza'\u001b[0m\u001b[0;34m)\u001b[0m\u001b[0;34m\u001b[0m\u001b[0;34m\u001b[0m\u001b[0m\n\u001b[0;32m----> 4\u001b[0;31m \u001b[0mmetadata\u001b[0m \u001b[0;34m=\u001b[0m \u001b[0mMetadata\u001b[0m\u001b[0;34m.\u001b[0m\u001b[0mload\u001b[0m\u001b[0;34m(\u001b[0m\u001b[0mworking_dir\u001b[0m \u001b[0;34m+\u001b[0m \u001b[0;34m'/input/sample_information_from_prep_1257.tsv'\u001b[0m\u001b[0;34m)\u001b[0m\u001b[0;34m\u001b[0m\u001b[0;34m\u001b[0m\u001b[0m\n\u001b[0m\u001b[1;32m      5\u001b[0m \u001b[0msummary\u001b[0m\u001b[0;34m,\u001b[0m \u001b[0;34m=\u001b[0m \u001b[0msummarize\u001b[0m\u001b[0;34m(\u001b[0m\u001b[0mft\u001b[0m\u001b[0;34m,\u001b[0m \u001b[0mmetadata\u001b[0m \u001b[0;34m=\u001b[0m \u001b[0mmetadata\u001b[0m\u001b[0;34m)\u001b[0m\u001b[0;34m\u001b[0m\u001b[0;34m\u001b[0m\u001b[0m\n\u001b[1;32m      6\u001b[0m \u001b[0msummary\u001b[0m\u001b[0;34m.\u001b[0m\u001b[0msave\u001b[0m\u001b[0;34m(\u001b[0m\u001b[0mworking_dir\u001b[0m \u001b[0;34m+\u001b[0m \u001b[0;34m'/output/summary.qzv'\u001b[0m\u001b[0;34m)\u001b[0m\u001b[0;34m\u001b[0m\u001b[0;34m\u001b[0m\u001b[0m\n",
      "\u001b[0;32m~/miniconda3/envs/qiime2-2021.2/lib/python3.6/site-packages/qiime2/metadata/metadata.py\u001b[0m in \u001b[0;36mload\u001b[0;34m(cls, filepath, column_types)\u001b[0m\n\u001b[1;32m    308\u001b[0m         \u001b[0;32mfrom\u001b[0m \u001b[0;34m.\u001b[0m\u001b[0mio\u001b[0m \u001b[0;32mimport\u001b[0m \u001b[0mMetadataReader\u001b[0m\u001b[0;34m\u001b[0m\u001b[0;34m\u001b[0m\u001b[0m\n\u001b[1;32m    309\u001b[0m         return MetadataReader(filepath).read(into=cls,\n\u001b[0;32m--> 310\u001b[0;31m                                              column_types=column_types)\n\u001b[0m\u001b[1;32m    311\u001b[0m \u001b[0;34m\u001b[0m\u001b[0m\n\u001b[1;32m    312\u001b[0m     \u001b[0;34m@\u001b[0m\u001b[0mproperty\u001b[0m\u001b[0;34m\u001b[0m\u001b[0;34m\u001b[0m\u001b[0m\n",
      "\u001b[0;32m~/miniconda3/envs/qiime2-2021.2/lib/python3.6/site-packages/qiime2/metadata/io.py\u001b[0m in \u001b[0;36mread\u001b[0;34m(self, into, column_types)\u001b[0m\n\u001b[1;32m    124\u001b[0m         \u001b[0;32mexcept\u001b[0m \u001b[0mException\u001b[0m \u001b[0;32mas\u001b[0m \u001b[0me\u001b[0m\u001b[0;34m:\u001b[0m\u001b[0;34m\u001b[0m\u001b[0;34m\u001b[0m\u001b[0m\n\u001b[1;32m    125\u001b[0m             raise MetadataFileError(\n\u001b[0;32m--> 126\u001b[0;31m                 \"There was an issue with loading the metadata file:\\n\\n%s\" % e)\n\u001b[0m\u001b[1;32m    127\u001b[0m \u001b[0;34m\u001b[0m\u001b[0m\n\u001b[1;32m    128\u001b[0m     \u001b[0;32mdef\u001b[0m \u001b[0m_read_header\u001b[0m\u001b[0;34m(\u001b[0m\u001b[0mself\u001b[0m\u001b[0;34m)\u001b[0m\u001b[0;34m:\u001b[0m\u001b[0;34m\u001b[0m\u001b[0;34m\u001b[0m\u001b[0m\n",
      "\u001b[0;31mMetadataFileError\u001b[0m: There was an issue with loading the metadata file:\n\nMetadata IDs must be unique. The following IDs are duplicated: '10346.1', '10346.11', '10346.12', '10346.2', '10346.3', '10346.4', '10346.5', '10346.6'\n\nThere may be more errors present in the metadata file. To get a full report, sample/feature metadata files can be validated with Keemei: https://keemei.qiime2.org\n\nFind details on QIIME 2 metadata requirements here: https://docs.qiime2.org/2021.2/tutorials/metadata/"
     ]
    }
   ],
   "source": [
    "#get a sampleID column\n",
    "#first, summarize the ft to get rid of biom format\n",
    "ft = Artifact.load(working_dir + '/output/smp_ft.qza')\n",
    "metadata = Metadata.load(working_dir + '/input/sample_information_from_prep_1257.tsv')\n",
    "summary, = summarize(ft, metadata = metadata)\n",
    "summary.save(working_dir + '/output/summary.qzv')"
   ]
  },
  {
   "cell_type": "code",
   "execution_count": null,
   "id": "metallic-harmony",
   "metadata": {},
   "outputs": [],
   "source": [
    "with tempfile.TemporaryDirectory() as temp_dir:\n",
    "    summary.export_data(temp_dir)\n",
    "    with open(temp_dir + '/sample-frequency-detail.csv') as infile:\n",
    "        next(infile)\n",
    "        with open(working_dir + '/input/metadata.tsv', 'w') as md_file:\n",
    "            md_file.write('#SampleID\\n')\n",
    "            for line in infile:\n",
    "                sample_id = line.split(',')[0]\n",
    "                md_file.write(sample_id + '\\n')"
   ]
  },
  {
   "cell_type": "code",
   "execution_count": 4,
   "id": "golden-reunion",
   "metadata": {},
   "outputs": [],
   "source": [
    "#i don't have metadata for this, but it's not really necessary. all\n",
    "#that's needed is a column with sample names, which I pulled from the\n",
    "#feature table summary qzv (manually)\n",
    "metadata = Metadata.load(working_dir + '/input/sample_information_from_prep_1257.tsv')\n",
    "references = ['silva', 'extended']\n",
    "for reference in references:\n",
    "    taxonomy_path = working_dir + '/output/' + reference + '_smp_classification_taxonomy.qza'\n",
    "    taxonomy = Artifact.load(taxonomy_path)\n",
    "    ft = Artifact.load(working_dir + '/input/ft.qza')\n",
    "    tbp, = barplot(ft, taxonomy, metadata)\n",
    "    tbp.save(working_dir + '/output/' + reference + '_smp_tbp.qzv')"
   ]
  },
  {
   "cell_type": "code",
   "execution_count": 5,
   "id": "sorted-gasoline",
   "metadata": {},
   "outputs": [],
   "source": [
    "proportion_unassigned = []\n",
    "references1 = []\n",
    "proportion_mitochondria = []\n",
    "references5 = []\n",
    "for reference in references:\n",
    "    with tempfile.TemporaryDirectory() as temp_dir:\n",
    "        tbp_path = working_dir + '/output/' + reference + '_smp_tbp.qzv'\n",
    "        tbp = Visualization.load(tbp_path)\n",
    "        tbp.export_data(temp_dir)\n",
    "        df1= pd.read_csv(temp_dir + '/level-1.csv')\n",
    "        df1['total'] = df1.sum(axis = 1)\n",
    "        df1['reference'] = reference\n",
    "        proportion_unassigned.extend(list(df1['Unassigned'] / df1['total']))\n",
    "        references1.extend(list(df1['reference']))\n",
    "        df5 = pd.read_csv(temp_dir + '/level-5.csv')\n",
    "        df5['total'] = df5.sum(axis = 1)\n",
    "        df5['reference'] = reference\n",
    "        proportion_mitochondria.extend(list(df5['d__Bacteria;p__Proteobacteria;c__Alphaproteobacteria;o__Rickettsiales;f__Mitochondria'] / df5['total']))\n",
    "        references5.extend(list(df5['reference']))"
   ]
  },
  {
   "cell_type": "code",
   "execution_count": 6,
   "id": "chief-malaysia",
   "metadata": {},
   "outputs": [],
   "source": [
    "lvl1 = list(zip(proportion_unassigned, references1))\n",
    "lvl1_df = pd.DataFrame(lvl1, columns = ['proportion unassigned', 'reference taxonomy'])\n",
    "lvl1_df.to_csv(working_dir + '/output/lvl1.csv', index = False)"
   ]
  },
  {
   "cell_type": "code",
   "execution_count": 7,
   "id": "guided-method",
   "metadata": {},
   "outputs": [],
   "source": [
    "lvl5 = list(zip(proportion_mitochondria, references5))\n",
    "lvl5_df = pd.DataFrame(lvl5, columns = ['proportion mitochondria', 'reference taxonomy'])\n",
    "lvl5_df.to_csv(working_dir + '/output/lvl5.csv', index = False)"
   ]
  },
  {
   "cell_type": "code",
   "execution_count": 8,
   "id": "median-building",
   "metadata": {},
   "outputs": [
    {
     "name": "stdout",
     "output_type": "stream",
     "text": [
      "Proportion Unassigned\n"
     ]
    },
    {
     "data": {
      "text/html": [
       "<div>\n",
       "<style scoped>\n",
       "    .dataframe tbody tr th:only-of-type {\n",
       "        vertical-align: middle;\n",
       "    }\n",
       "\n",
       "    .dataframe tbody tr th {\n",
       "        vertical-align: top;\n",
       "    }\n",
       "\n",
       "    .dataframe thead th {\n",
       "        text-align: right;\n",
       "    }\n",
       "</style>\n",
       "<table border=\"1\" class=\"dataframe\">\n",
       "  <thead>\n",
       "    <tr style=\"text-align: right;\">\n",
       "      <th></th>\n",
       "      <th>proportion unassigned</th>\n",
       "      <th>reference taxonomy</th>\n",
       "    </tr>\n",
       "  </thead>\n",
       "  <tbody>\n",
       "    <tr>\n",
       "      <th>0</th>\n",
       "      <td>0.002137</td>\n",
       "      <td>silva</td>\n",
       "    </tr>\n",
       "    <tr>\n",
       "      <th>1</th>\n",
       "      <td>0.036866</td>\n",
       "      <td>silva</td>\n",
       "    </tr>\n",
       "    <tr>\n",
       "      <th>2</th>\n",
       "      <td>0.002752</td>\n",
       "      <td>silva</td>\n",
       "    </tr>\n",
       "    <tr>\n",
       "      <th>3</th>\n",
       "      <td>0.001804</td>\n",
       "      <td>silva</td>\n",
       "    </tr>\n",
       "    <tr>\n",
       "      <th>4</th>\n",
       "      <td>0.005135</td>\n",
       "      <td>silva</td>\n",
       "    </tr>\n",
       "    <tr>\n",
       "      <th>...</th>\n",
       "      <td>...</td>\n",
       "      <td>...</td>\n",
       "    </tr>\n",
       "    <tr>\n",
       "      <th>7653</th>\n",
       "      <td>0.543374</td>\n",
       "      <td>extended</td>\n",
       "    </tr>\n",
       "    <tr>\n",
       "      <th>7654</th>\n",
       "      <td>0.474205</td>\n",
       "      <td>extended</td>\n",
       "    </tr>\n",
       "    <tr>\n",
       "      <th>7655</th>\n",
       "      <td>0.112090</td>\n",
       "      <td>extended</td>\n",
       "    </tr>\n",
       "    <tr>\n",
       "      <th>7656</th>\n",
       "      <td>0.061690</td>\n",
       "      <td>extended</td>\n",
       "    </tr>\n",
       "    <tr>\n",
       "      <th>7657</th>\n",
       "      <td>0.092023</td>\n",
       "      <td>extended</td>\n",
       "    </tr>\n",
       "  </tbody>\n",
       "</table>\n",
       "<p>7658 rows × 2 columns</p>\n",
       "</div>"
      ],
      "text/plain": [
       "      proportion unassigned reference taxonomy\n",
       "0                  0.002137              silva\n",
       "1                  0.036866              silva\n",
       "2                  0.002752              silva\n",
       "3                  0.001804              silva\n",
       "4                  0.005135              silva\n",
       "...                     ...                ...\n",
       "7653               0.543374           extended\n",
       "7654               0.474205           extended\n",
       "7655               0.112090           extended\n",
       "7656               0.061690           extended\n",
       "7657               0.092023           extended\n",
       "\n",
       "[7658 rows x 2 columns]"
      ]
     },
     "metadata": {},
     "output_type": "display_data"
    },
    {
     "name": "stdout",
     "output_type": "stream",
     "text": [
      "Proportion Mitochondria\n"
     ]
    },
    {
     "data": {
      "text/html": [
       "<div>\n",
       "<style scoped>\n",
       "    .dataframe tbody tr th:only-of-type {\n",
       "        vertical-align: middle;\n",
       "    }\n",
       "\n",
       "    .dataframe tbody tr th {\n",
       "        vertical-align: top;\n",
       "    }\n",
       "\n",
       "    .dataframe thead th {\n",
       "        text-align: right;\n",
       "    }\n",
       "</style>\n",
       "<table border=\"1\" class=\"dataframe\">\n",
       "  <thead>\n",
       "    <tr style=\"text-align: right;\">\n",
       "      <th></th>\n",
       "      <th>proportion mitochondria</th>\n",
       "      <th>reference taxonomy</th>\n",
       "    </tr>\n",
       "  </thead>\n",
       "  <tbody>\n",
       "    <tr>\n",
       "      <th>0</th>\n",
       "      <td>0.000131</td>\n",
       "      <td>silva</td>\n",
       "    </tr>\n",
       "    <tr>\n",
       "      <th>1</th>\n",
       "      <td>0.000000</td>\n",
       "      <td>silva</td>\n",
       "    </tr>\n",
       "    <tr>\n",
       "      <th>2</th>\n",
       "      <td>0.000000</td>\n",
       "      <td>silva</td>\n",
       "    </tr>\n",
       "    <tr>\n",
       "      <th>3</th>\n",
       "      <td>0.002727</td>\n",
       "      <td>silva</td>\n",
       "    </tr>\n",
       "    <tr>\n",
       "      <th>4</th>\n",
       "      <td>0.000297</td>\n",
       "      <td>silva</td>\n",
       "    </tr>\n",
       "    <tr>\n",
       "      <th>...</th>\n",
       "      <td>...</td>\n",
       "      <td>...</td>\n",
       "    </tr>\n",
       "    <tr>\n",
       "      <th>7653</th>\n",
       "      <td>0.000000</td>\n",
       "      <td>extended</td>\n",
       "    </tr>\n",
       "    <tr>\n",
       "      <th>7654</th>\n",
       "      <td>0.005016</td>\n",
       "      <td>extended</td>\n",
       "    </tr>\n",
       "    <tr>\n",
       "      <th>7655</th>\n",
       "      <td>0.000244</td>\n",
       "      <td>extended</td>\n",
       "    </tr>\n",
       "    <tr>\n",
       "      <th>7656</th>\n",
       "      <td>0.002223</td>\n",
       "      <td>extended</td>\n",
       "    </tr>\n",
       "    <tr>\n",
       "      <th>7657</th>\n",
       "      <td>0.049747</td>\n",
       "      <td>extended</td>\n",
       "    </tr>\n",
       "  </tbody>\n",
       "</table>\n",
       "<p>7658 rows × 2 columns</p>\n",
       "</div>"
      ],
      "text/plain": [
       "      proportion mitochondria reference taxonomy\n",
       "0                    0.000131              silva\n",
       "1                    0.000000              silva\n",
       "2                    0.000000              silva\n",
       "3                    0.002727              silva\n",
       "4                    0.000297              silva\n",
       "...                       ...                ...\n",
       "7653                 0.000000           extended\n",
       "7654                 0.005016           extended\n",
       "7655                 0.000244           extended\n",
       "7656                 0.002223           extended\n",
       "7657                 0.049747           extended\n",
       "\n",
       "[7658 rows x 2 columns]"
      ]
     },
     "metadata": {},
     "output_type": "display_data"
    }
   ],
   "source": [
    "from IPython.core.display import display\n",
    "print(\"Proportion Unassigned\")\n",
    "display(lvl1_df)\n",
    "print(\"Proportion Mitochondria\")\n",
    "display(lvl5_df)"
   ]
  },
  {
   "cell_type": "code",
   "execution_count": 57,
   "id": "printable-syndication",
   "metadata": {
    "collapsed": true
   },
   "outputs": [
    {
     "name": "stderr",
     "output_type": "stream",
     "text": [
      "/home/dylan/miniconda3/envs/qiime2-2021.2/lib/python3.6/site-packages/seaborn/categorical.py:1296: UserWarning: 10.1% of the points cannot be placed; you may want to decrease the size of the markers or use stripplot.\n",
      "  warnings.warn(msg, UserWarning)\n",
      "/home/dylan/miniconda3/envs/qiime2-2021.2/lib/python3.6/site-packages/seaborn/categorical.py:1296: UserWarning: 24.0% of the points cannot be placed; you may want to decrease the size of the markers or use stripplot.\n",
      "  warnings.warn(msg, UserWarning)\n"
     ]
    },
    {
     "data": {
      "image/png": "[encoded data removed]",
      "text/plain": [
       "<Figure size 432x288 with 1 Axes>"
      ]
     },
     "metadata": {},
     "output_type": "display_data"
    }
   ],
   "source": [
    "sns.set_style(\"dark\")\n",
    "sns.set_context(\"poster\")\n",
    "\n",
    "g = sns.swarmplot(x = \"reference taxonomy\", dodge = True,\n",
    "                  y = \"proportion unassigned\",\n",
    "                  size = 0.5, data = lvl1_df, palette = \"dark\")"
   ]
  },
  {
   "cell_type": "code",
   "execution_count": 58,
   "id": "wired-silly",
   "metadata": {
    "collapsed": true
   },
   "outputs": [
    {
     "name": "stderr",
     "output_type": "stream",
     "text": [
      "/home/dylan/miniconda3/envs/qiime2-2021.2/lib/python3.6/site-packages/seaborn/categorical.py:1296: UserWarning: 54.9% of the points cannot be placed; you may want to decrease the size of the markers or use stripplot.\n",
      "  warnings.warn(msg, UserWarning)\n",
      "/home/dylan/miniconda3/envs/qiime2-2021.2/lib/python3.6/site-packages/seaborn/categorical.py:1296: UserWarning: 20.3% of the points cannot be placed; you may want to decrease the size of the markers or use stripplot.\n",
      "  warnings.warn(msg, UserWarning)\n"
     ]
    },
    {
     "data": {
      "image/png": "[encoded data removed]",
      "text/plain": [
       "<Figure size 432x288 with 1 Axes>"
      ]
     },
     "metadata": {},
     "output_type": "display_data"
    }
   ],
   "source": [
    "h = sns.swarmplot(x = 'reference taxonomy', dodge = True,\n",
    "                 y = 'proportion mitochondria',\n",
    "                 size = 0.5, data = lvl5_df, palette = 'dark')"
   ]
  },
  {
   "cell_type": "code",
   "execution_count": 11,
   "id": "indoor-probability",
   "metadata": {},
   "outputs": [
    {
     "data": {
      "image/png": "[encoded data removed]",
      "text/plain": [
       "<Figure size 432x288 with 1 Axes>"
      ]
     },
     "metadata": {
      "needs_background": "light"
     },
     "output_type": "display_data"
    }
   ],
   "source": [
    "g = sns.boxplot(x = 'reference taxonomy', y = 'proportion unassigned',\n",
    "               data = lvl1_df, palette = 'dark')"
   ]
  },
  {
   "cell_type": "code",
   "execution_count": 12,
   "id": "saved-cream",
   "metadata": {},
   "outputs": [
    {
     "data": {
      "image/png": "[encoded data removed]",
      "text/plain": [
       "<Figure size 432x288 with 1 Axes>"
      ]
     },
     "metadata": {
      "needs_background": "light"
     },
     "output_type": "display_data"
    }
   ],
   "source": [
    "h = sns.boxplot(x = 'reference taxonomy', y = 'proportion mitochondria',\n",
    "               data = lvl5_df, palette = 'dark')"
   ]
  },
  {
   "cell_type": "code",
   "execution_count": 9,
   "id": "young-operations",
   "metadata": {},
   "outputs": [
    {
     "data": {
      "image/png": "[encoded data removed]",
      "text/plain": [
       "<Figure size 432x288 with 1 Axes>"
      ]
     },
     "metadata": {
      "needs_background": "light"
     },
     "output_type": "display_data"
    }
   ],
   "source": [
    "i = sns.stripplot(x = 'reference taxonomy', y = 'proportion unassigned',\n",
    "                 data = lvl1_df, palette = 'dark')"
   ]
  },
  {
   "cell_type": "code",
   "execution_count": 10,
   "id": "living-probability",
   "metadata": {},
   "outputs": [
    {
     "data": {
      "image/png": "[encoded data removed]",
      "text/plain": [
       "<Figure size 432x288 with 1 Axes>"
      ]
     },
     "metadata": {
      "needs_background": "light"
     },
     "output_type": "display_data"
    }
   ],
   "source": [
    "j = sns.stripplot(x = 'reference taxonomy', y = 'proportion mitochondria',\n",
    "                 data = lvl5_df, palette = 'dark')"
   ]
  },
  {
   "cell_type": "code",
   "execution_count": 69,
   "id": "executed-destruction",
   "metadata": {
    "scrolled": true
   },
   "outputs": [
    {
     "data": {
      "text/html": [
       "<div>\n",
       "<style scoped>\n",
       "    .dataframe tbody tr th:only-of-type {\n",
       "        vertical-align: middle;\n",
       "    }\n",
       "\n",
       "    .dataframe tbody tr th {\n",
       "        vertical-align: top;\n",
       "    }\n",
       "\n",
       "    .dataframe thead th {\n",
       "        text-align: right;\n",
       "    }\n",
       "</style>\n",
       "<table border=\"1\" class=\"dataframe\">\n",
       "  <thead>\n",
       "    <tr style=\"text-align: right;\">\n",
       "      <th></th>\n",
       "      <th>proportion mitochondria</th>\n",
       "      <th>reference taxonomy</th>\n",
       "    </tr>\n",
       "  </thead>\n",
       "  <tbody>\n",
       "    <tr>\n",
       "      <th>0</th>\n",
       "      <td>0.000359</td>\n",
       "      <td>silva</td>\n",
       "    </tr>\n",
       "    <tr>\n",
       "      <th>1</th>\n",
       "      <td>0.004853</td>\n",
       "      <td>silva</td>\n",
       "    </tr>\n",
       "    <tr>\n",
       "      <th>2</th>\n",
       "      <td>0.000054</td>\n",
       "      <td>silva</td>\n",
       "    </tr>\n",
       "    <tr>\n",
       "      <th>3</th>\n",
       "      <td>0.000107</td>\n",
       "      <td>silva</td>\n",
       "    </tr>\n",
       "    <tr>\n",
       "      <th>4</th>\n",
       "      <td>0.000000</td>\n",
       "      <td>silva</td>\n",
       "    </tr>\n",
       "    <tr>\n",
       "      <th>...</th>\n",
       "      <td>...</td>\n",
       "      <td>...</td>\n",
       "    </tr>\n",
       "    <tr>\n",
       "      <th>1837</th>\n",
       "      <td>0.014065</td>\n",
       "      <td>extended</td>\n",
       "    </tr>\n",
       "    <tr>\n",
       "      <th>1838</th>\n",
       "      <td>0.002947</td>\n",
       "      <td>extended</td>\n",
       "    </tr>\n",
       "    <tr>\n",
       "      <th>1839</th>\n",
       "      <td>0.001094</td>\n",
       "      <td>extended</td>\n",
       "    </tr>\n",
       "    <tr>\n",
       "      <th>1840</th>\n",
       "      <td>0.000595</td>\n",
       "      <td>extended</td>\n",
       "    </tr>\n",
       "    <tr>\n",
       "      <th>1841</th>\n",
       "      <td>0.005151</td>\n",
       "      <td>extended</td>\n",
       "    </tr>\n",
       "  </tbody>\n",
       "</table>\n",
       "<p>1842 rows × 2 columns</p>\n",
       "</div>"
      ],
      "text/plain": [
       "      proportion mitochondria reference taxonomy\n",
       "0                    0.000359              silva\n",
       "1                    0.004853              silva\n",
       "2                    0.000054              silva\n",
       "3                    0.000107              silva\n",
       "4                    0.000000              silva\n",
       "...                       ...                ...\n",
       "1837                 0.014065           extended\n",
       "1838                 0.002947           extended\n",
       "1839                 0.001094           extended\n",
       "1840                 0.000595           extended\n",
       "1841                 0.005151           extended\n",
       "\n",
       "[1842 rows x 2 columns]"
      ]
     },
     "execution_count": 69,
     "metadata": {},
     "output_type": "execute_result"
    }
   ],
   "source": [
    "lvl5_df"
   ]
  },
  {
   "cell_type": "code",
   "execution_count": 13,
   "id": "automotive-blood",
   "metadata": {},
   "outputs": [],
   "source": [
    "silva = lvl5_df[lvl5_df['reference taxonomy']=='silva']\n",
    "extended = lvl5_df[lvl5_df['reference taxonomy']=='extended']\n",
    "u, p = stats.mannwhitneyu(silva['proportion mitochondria'], extended['proportion mitochondria'])"
   ]
  },
  {
   "cell_type": "code",
   "execution_count": 14,
   "id": "allied-generator",
   "metadata": {},
   "outputs": [
    {
     "data": {
      "text/plain": [
       "3856227.5"
      ]
     },
     "execution_count": 14,
     "metadata": {},
     "output_type": "execute_result"
    }
   ],
   "source": [
    "u"
   ]
  },
  {
   "cell_type": "code",
   "execution_count": 15,
   "id": "increased-updating",
   "metadata": {},
   "outputs": [
    {
     "data": {
      "text/plain": [
       "1.1956084234717965e-292"
      ]
     },
     "execution_count": 15,
     "metadata": {},
     "output_type": "execute_result"
    }
   ],
   "source": [
    "p"
   ]
  },
  {
   "cell_type": "code",
   "execution_count": null,
   "id": "ambient-trust",
   "metadata": {},
   "outputs": [],
   "source": []
  }
 ],
 "metadata": {
  "kernelspec": {
   "display_name": "Python 3",
   "language": "python",
   "name": "python3"
  },
  "language_info": {
   "codemirror_mode": {
    "name": "ipython",
    "version": 3
   },
   "file_extension": ".py",
   "mimetype": "text/x-python",
   "name": "python",
   "nbconvert_exporter": "python",
   "pygments_lexer": "ipython3",
   "version": "3.6.13"
  }
 },
 "nbformat": 4,
 "nbformat_minor": 5
}
