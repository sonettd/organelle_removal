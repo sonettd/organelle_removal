{
 "cells": [
  {
   "cell_type": "code",
   "execution_count": 1,
   "id": "combined-genealogy",
   "metadata": {
    "scrolled": true
   },
   "outputs": [
    {
     "name": "stdout",
     "output_type": "stream",
     "text": [
      "Collecting package metadata (current_repodata.json): done\n",
      "Solving environment: done\n",
      "\n",
      "# All requested packages already installed.\n",
      "\n"
     ]
    }
   ],
   "source": [
    "#install biopython into conda env\n",
    "!conda install -c conda-forge biopython -y"
   ]
  },
  {
   "cell_type": "code",
   "execution_count": 1,
   "id": "parental-albany",
   "metadata": {},
   "outputs": [],
   "source": [
    "import os\n",
    "import shutil\n",
    "import tarfile\n",
    "import urllib.request\n",
    "\n",
    "from Bio import SeqIO\n",
    "from qiime2 import Artifact\n",
    "from qiime2.plugins.feature_classifier.methods import extract_reads\n",
    "from qiime2.plugins.feature_table.methods import merge_seqs, merge_taxa\n",
    "\n",
    "working_dir = os.path.abspath('../')\n",
    "refs_dir = working_dir + '/output/taxonomy_references'"
   ]
  },
  {
   "cell_type": "code",
   "execution_count": 2,
   "id": "enabling-senate",
   "metadata": {},
   "outputs": [],
   "source": [
    "def download_file(url, local_filepath):\n",
    "    \"\"\"Download a file from a remote url and save to a local filepath\n",
    "    \n",
    "    url - the web address of the file you want to download as a string\n",
    "    local_filepath - the local filepath to which the file will be saved\n",
    "    \"\"\"\n",
    "\n",
    "    print(f\"Downloading file: {url}\")\n",
    "    with urllib.request.urlopen(url) as response, open(local_filepath, 'wb') as out_file:\n",
    "        shutil.copyfileobj(response, out_file)\n",
    "    \n",
    "    print(f\"Saved to local filepath: {local_filepath}\")"
   ]
  },
  {
   "cell_type": "code",
   "execution_count": 5,
   "id": "motivated-mentor",
   "metadata": {},
   "outputs": [],
   "source": [
    "if not os.path.exists(refs_dir):\n",
    "    os.mkdir(refs_dir)\n",
    "if not os.path.isfile(refs_dir + '/Metaxa2_2.2.1.tar.gz'):\n",
    "    download_file('https://microbiology.se/sw/Metaxa2_2.2.1.tar.gz',\n",
    "                  refs_dir + '/Metaxa2_2.2.1.tar.gz')\n",
    "if not os.path.isfile(refs_dir + '/silva-138-99-seqs-515-806.qza'):\n",
    "    download_file('https://data.qiime2.org/2021.2/common/silva-138-99-seqs-515-806.qza', \n",
    "                  refs_dir + '/silva-138-99-seqs-515-806.qza')\n",
    "if not os.path.isfile(refs_dir + '/silva-138-99-tax-515-806.qza'):\n",
    "    download_file('https://data.qiime2.org/2021.2/common/silva-138-99-tax-515-806.qza', \n",
    "                  refs_dir + '/silva-138-99-tax-515-806.qza')\n",
    "if not os.path.isfile(refs_dir + '/PhytoRef_with_taxonomy.fasta'):\n",
    "    download_file('http://phytoref.sb-roscoff.fr/static/downloads/PhytoRef_with_taxonomy.fasta',\n",
    "                  refs_dir + '/PhytoRef_with_taxonomy.fasta')"
   ]
  },
  {
   "cell_type": "code",
   "execution_count": 6,
   "id": "lonely-skirt",
   "metadata": {},
   "outputs": [],
   "source": [
    "tar = tarfile.open(refs_dir + '/Metaxa2_2.2.1.tar.gz', 'r:gz')\n",
    "tar.extractall(refs_dir)\n",
    "tar.close()"
   ]
  },
  {
   "cell_type": "code",
   "execution_count": 7,
   "id": "wrapped-account",
   "metadata": {},
   "outputs": [],
   "source": [
    "os.chdir(refs_dir + '/Metaxa2_2.2.1/metaxa2_db/SSU')\n",
    "!blastdbcmd -entry all -db blast -out metaxa2.fasta\n",
    "shutil.copyfile(refs_dir + '/Metaxa2_2.2.1/metaxa2_db/SSU/metaxa2.fasta', \n",
    "                refs_dir + '/metaxa2.fasta')\n",
    "os.chdir(working_dir + '/procedure')"
   ]
  },
  {
   "cell_type": "code",
   "execution_count": 8,
   "id": "expanded-boundary",
   "metadata": {},
   "outputs": [],
   "source": [
    "with open(refs_dir + '/organelle_taxonomy.tsv', 'w') as organelle_taxonomy:\n",
    "    organelle_taxonomy.write('Feature ID\\tTaxon\\n')\n",
    "    with open(refs_dir + '/organelle_sequences.fasta', 'w') as organelle_seqs:\n",
    "        for i, entry in enumerate(SeqIO.parse(refs_dir + '/metaxa2.fasta', 'fasta')):\n",
    "            if 'mitochondria' in entry.description or 'Mitochondria' in entry.description:\n",
    "                organelle_seqs.write('>metaxa2_mitochondria_' + str(i) + '\\n')\n",
    "                organelle_seqs.write(str(entry.seq + '\\n'))\n",
    "                specific_info = str(entry.description).split(';')[-1]\n",
    "                organelle_taxonomy.write('metaxa2_mitochondria_' + str(i) + '\\td__Bacteria; p__Proteobacteria; c__Alphaproteobacteria; o__Rickettsiales; f__Mitochondria; g__Mitochondria; s__' + specific_info + '\\n')\n",
    "        for i, entry in enumerate(SeqIO.parse(refs_dir + '/PhytoRef_with_taxonomy.fasta', 'fasta')):\n",
    "            if not 'XXXXXXXXXX' in entry.seq:   #ditch the weird sequence\n",
    "                organelle_seqs.write('>phytoref_chloroplast_' + str(i) + '\\n')\n",
    "                organelle_seqs.write(str(entry.seq + '\\n'))\n",
    "                specific_info = str(entry.description).split('|')[-1]\n",
    "                organelle_taxonomy.write('phytoref_chloroplast_' + str(i) + '\\td__Bacteria; p__Cyanobacteria; c__Cyanobacteriia; o__Chloroplast; f__Chloroplast; g__Chloroplast; s__' + specific_info + '\\n')"
   ]
  },
  {
   "cell_type": "code",
   "execution_count": 9,
   "id": "verified-traveler",
   "metadata": {},
   "outputs": [
    {
     "data": {
      "text/plain": [
       "'/mnt/c/Users/Dylan/Documents/zaneveld/smp/output/taxonomy_references/extended_sequences.qza'"
      ]
     },
     "execution_count": 9,
     "metadata": {},
     "output_type": "execute_result"
    }
   ],
   "source": [
    "#import, select V4 region, merge, save\n",
    "organelle_seqs = Artifact.import_data('FeatureData[Sequence]',\n",
    "                                      refs_dir + '/organelle_sequences.fasta')\n",
    "v4_organelle_seqs, = extract_reads(organelle_seqs, 'GTGYCAGCMGCCGCGGTAA',\n",
    "                                   'GGACTACNVGGGTWTCTAAT', n_jobs = 24,\n",
    "                                   read_orientation = 'forward')\n",
    "extended_seqs, = merge_seqs([v4_organelle_seqs,\n",
    "                            Artifact.load(working_dir + '/output/taxonomy_references/silva-138-99-seqs-515-806.qza')])\n",
    "extended_seqs.save(refs_dir + '/extended_sequences.qza')"
   ]
  },
  {
   "cell_type": "code",
   "execution_count": 10,
   "id": "false-sigma",
   "metadata": {},
   "outputs": [
    {
     "data": {
      "text/plain": [
       "'/mnt/c/Users/Dylan/Documents/zaneveld/smp/output/taxonomy_references/extended_taxonomy.qza'"
      ]
     },
     "execution_count": 10,
     "metadata": {},
     "output_type": "execute_result"
    }
   ],
   "source": [
    "organelle_taxonomy = Artifact.import_data('FeatureData[Taxonomy]',\n",
    "                                          refs_dir + '/organelle_taxonomy.tsv')\n",
    "extended_taxonomy, = merge_taxa([organelle_taxonomy,\n",
    "                                Artifact.load(refs_dir + '/silva-138-99-tax-515-806.qza')])\n",
    "extended_taxonomy.save(refs_dir + '/extended_taxonomy.qza')"
   ]
  },
  {
   "cell_type": "code",
   "execution_count": null,
   "id": "brown-humanitarian",
   "metadata": {},
   "outputs": [],
   "source": []
  }
 ],
 "metadata": {
  "kernelspec": {
   "display_name": "Python 3",
   "language": "python",
   "name": "python3"
  },
  "language_info": {
   "codemirror_mode": {
    "name": "ipython",
    "version": 3
   },
   "file_extension": ".py",
   "mimetype": "text/x-python",
   "name": "python",
   "nbconvert_exporter": "python",
   "pygments_lexer": "ipython3",
   "version": "3.6.13"
  }
 },
 "nbformat": 4,
 "nbformat_minor": 5
}
